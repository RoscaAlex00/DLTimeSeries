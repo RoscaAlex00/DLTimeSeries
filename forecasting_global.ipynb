{
 "cells": [
  {
   "cell_type": "markdown",
   "metadata": {
    "collapsed": true,
    "pycharm": {
     "name": "#%% md\n"
    }
   },
   "source": [
    " # 1-step Forecasting with linear and non-linear models (Nomothetic)"
   ]
  },
  {
   "cell_type": "code",
   "execution_count": 1,
   "outputs": [],
   "source": [
    "# Import the necessary libraries\n",
    "import pandas as pd\n",
    "import numpy as np\n",
    "%matplotlib inline\n",
    "import matplotlib.pyplot as plt\n",
    "import seaborn as sns\n",
    "from sklearn.svm import LinearSVR\n",
    "from sklearn.model_selection import GridSearchCV\n",
    "import xgboost as xgb\n",
    "from sklearn import linear_model as lm\n",
    "\n",
    "import utils\n",
    "\n",
    "# Plot settings\n",
    "plt.rcParams['figure.figsize'] = (16, 8)\n",
    "plt.rcParams['figure.dpi'] = 150\n",
    "sns.set()"
   ],
   "metadata": {
    "collapsed": false,
    "pycharm": {
     "name": "#%%\n"
    }
   }
  },
  {
   "cell_type": "code",
   "execution_count": 2,
   "outputs": [],
   "source": [
    "# Reading alcohol data\n",
    "train_df, test_df, data_raw_list = utils.load_alcohol()\n",
    "\n",
    "combined_data = []\n",
    "\n",
    "# Create one big dataset that contains the information of all participants, and split into dependent/independent features\n",
    "train_alcohol = pd.concat(train_df, ignore_index=True)\n",
    "train_alcohol_X = train_alcohol.drop(train_alcohol.columns[range(0, 61)], axis=1).fillna(0)\n",
    "train_alcohol_y = train_alcohol['craving']\n",
    "\n",
    "\n",
    "# Function to split the test sets into dependent/independent features, since they are taken per individual\n",
    "def prepare_data(idx, test_list):\n",
    "    # print('Patient ID:', test_list[idx]['ID'][0])\n",
    "    X_test = test_list[idx].drop(test_list[idx].columns[range(0, 61)], axis=1).fillna(0)\n",
    "    y_test = test_list[idx]['craving']\n",
    "    return X_test, y_test\n"
   ],
   "metadata": {
    "collapsed": false,
    "pycharm": {
     "name": "#%%\n"
    }
   }
  },
  {
   "cell_type": "code",
   "execution_count": 3,
   "outputs": [
    {
     "name": "stdout",
     "output_type": "stream",
     "text": [
      "Patient included in study:\n",
      "[3, 5, 8, 11, 14, 15, 16, 24, 25, 26, 27, 31, 34, 35, 37, 39, 41, 42, 46, 50, 53, 54, 59, 63, 65, 66, 70, 72, 77]\n"
     ]
    }
   ],
   "source": [
    "# Loading train and test data of covid patients\n",
    "covid_train_x_list, covid_test_x_list, covid_train_y_list, covid_test_y_list = utils.patients_covid()\n",
    "\n",
    "# Concatenate the train set for the global models\n",
    "covid_train_X = pd.concat(covid_train_x_list, ignore_index=True)\n",
    "covid_train_y = pd.concat(covid_train_y_list, ignore_index=True)"
   ],
   "metadata": {
    "collapsed": false,
    "pycharm": {
     "name": "#%%\n"
    }
   }
  },
  {
   "cell_type": "markdown",
   "source": [
    "# 1. Nomothetic Models Regression"
   ],
   "metadata": {
    "collapsed": false,
    "pycharm": {
     "name": "#%% md\n"
    }
   }
  },
  {
   "cell_type": "code",
   "execution_count": 4,
   "outputs": [
    {
     "name": "stdout",
     "output_type": "stream",
     "text": [
      "--- Alcohol Data ---\n",
      "Trained\n",
      "--- Covid Data ---\n",
      "Trained\n"
     ]
    }
   ],
   "source": [
    "# Elastic-Net\n",
    "\n",
    "def elastic_net(train_x, train_y):\n",
    "    # Standardize variables (mean 0, std 1)\n",
    "    X_train_loc = utils.standardize(train_x).fillna(0)\n",
    "\n",
    "    # Train Elastic Net model with 5-fold cross-validation\n",
    "    l1_ratios = np.arange(0.01, 0.6, 0.05)\n",
    "    elastic_reg = lm.ElasticNetCV(alphas=np.arange(0.01, 20, 0.05), l1_ratio=l1_ratios, cv=5, max_iter=100000,\n",
    "                                  fit_intercept=True)\n",
    "    elastic_reg.fit(X_train_loc, train_y)\n",
    "\n",
    "    return elastic_reg\n",
    "\n",
    "\n",
    "# Generate a model for both datasets, that will later be used for testing\n",
    "print('--- Alcohol Data ---')\n",
    "test_alcohol_X, test_alcohol_y = prepare_data(1, test_df)\n",
    "elastic_alcohol = elastic_net(train_alcohol_X, train_alcohol_y)\n",
    "print('Trained')\n",
    "print('--- Covid Data ---')\n",
    "elastic_covid = elastic_net(covid_train_X, covid_train_y)\n",
    "print('Trained')"
   ],
   "metadata": {
    "collapsed": false,
    "pycharm": {
     "name": "#%%\n"
    }
   }
  },
  {
   "cell_type": "code",
   "execution_count": 5,
   "outputs": [
    {
     "name": "stdout",
     "output_type": "stream",
     "text": [
      "--- Alcohol Data ---\n",
      "Trained\n",
      "--- Covid Data ---\n",
      "Trained\n"
     ]
    }
   ],
   "source": [
    "# Linear-SVM\n",
    "\n",
    "def linear_svm(train_x, train_y, params):\n",
    "    # Standardize\n",
    "    X_train_loc = utils.standardize(train_x).fillna(0)\n",
    "\n",
    "    # Train a SVM with a linear kernel, 5-fold cross validation, also optimizing the hyperparameters from the provided 'params' variable\n",
    "    clf = GridSearchCV(estimator=LinearSVR(), param_grid=params, scoring='neg_mean_squared_error', cv=5)\n",
    "    clf.fit(X_train_loc, train_y)\n",
    "    print(clf.best_params_)\n",
    "\n",
    "    return clf\n",
    "\n",
    "\n",
    "# Train model for the two datasets\n",
    "print('--- Alcohol Data ---')\n",
    "# Hyperparameter grid for 'Alcohol' dataset\n",
    "param = [\n",
    "    {'C': np.arange(0.1, 4, 0.1),\n",
    "     'epsilon': np.arange(6, 7, 0.1),\n",
    "     'loss': ['epsilon_insensitive'],\n",
    "     'fit_intercept': [True],\n",
    "     'max_iter': [10000]}]\n",
    "\n",
    "svm_alcohol = linear_svm(train_alcohol_X, train_alcohol_y, param)\n",
    "print('Trained')\n",
    "print('--- Covid Data ---')\n",
    "# Hyperparameter grid for COVID-19 dataset\n",
    "param = [\n",
    "    {'C': np.arange(0.1, 2, 0.1),\n",
    "     'epsilon': np.arange(0, 0.5, 0.1),\n",
    "     'loss': ['epsilon_insensitive'],\n",
    "     'fit_intercept': [True],\n",
    "     'max_iter': [10000]}]\n",
    "svm_covid = linear_svm(covid_train_X, covid_train_y, param)\n",
    "print('Trained')"
   ],
   "metadata": {
    "collapsed": false,
    "pycharm": {
     "name": "#%%\n"
    }
   }
  },
  {
   "cell_type": "code",
   "execution_count": 6,
   "outputs": [
    {
     "name": "stdout",
     "output_type": "stream",
     "text": [
      "--- Alcohol Data ---\n",
      "{'alpha': 0.9, 'booster': 'gbtree', 'eval_metric': 'rmse', 'max_depth': 1, 'n_estimators': 20, 'objective': 'reg:squarederror'}\n",
      "Trained\n",
      "--- Covid Data ---\n",
      "{'alpha': 0.0, 'booster': 'gbtree', 'eval_metric': 'rmse', 'max_depth': 1, 'n_estimators': 30, 'objective': 'reg:squarederror'}\n",
      "Trained\n"
     ]
    }
   ],
   "source": [
    "# XGBoost\n",
    "\n",
    "def xgboost_reg(train_x, train_y):\n",
    "    # Hyperparameter grid\n",
    "    params = [\n",
    "        {'objective': ['reg:squarederror'],\n",
    "         'n_estimators': [15, 20, 25, 30, 45, 60],\n",
    "         'booster': ['gbtree'],\n",
    "         'alpha': np.arange(0, 1, 0.1),\n",
    "         'eval_metric': ['rmse'],\n",
    "         'max_depth': np.arange(1, 8, 1)}]\n",
    "\n",
    "    # Train a XGBoost model with 5-fold cross-validation\n",
    "    reg_xgb = GridSearchCV(xgb.XGBRegressor(), params, cv=5, scoring='neg_mean_squared_error')\n",
    "    reg_xgb.fit(train_x, train_y)\n",
    "    print(reg_xgb.best_params_)\n",
    "\n",
    "    return reg_xgb\n",
    "\n",
    "\n",
    "# Train model for both datasets\n",
    "print('--- Alcohol Data ---')\n",
    "xgb_alcohol = xgboost_reg(train_alcohol_X, train_alcohol_y)\n",
    "print('Trained')\n",
    "print('--- Covid Data ---')\n",
    "xgb_covid = xgboost_reg(covid_train_X, covid_train_y)\n",
    "print('Trained')"
   ],
   "metadata": {
    "collapsed": false,
    "pycharm": {
     "name": "#%%\n"
    }
   }
  },
  {
   "cell_type": "code",
   "execution_count": 7,
   "outputs": [
    {
     "name": "stdout",
     "output_type": "stream",
     "text": [
      "--- Alcohol Data ---\n",
      "{'bootstrap': True, 'max_depth': 5, 'max_features': 'auto', 'min_samples_leaf': 1, 'min_samples_split': 4, 'n_estimators': 70}\n",
      "Trained\n",
      "--- Covid Data ---\n",
      "{'bootstrap': True, 'max_depth': 5, 'max_features': 'auto', 'min_samples_leaf': 1, 'min_samples_split': 4, 'n_estimators': 70}\n",
      "Trained\n"
     ]
    }
   ],
   "source": [
    "from sklearn.ensemble import RandomForestRegressor\n",
    "\n",
    "\n",
    "# Random Forests\n",
    "\n",
    "def random_forests(train_x, train_y):\n",
    "    # Hyperparameter grid\n",
    "    grid = [\n",
    "        {'n_estimators': [50, 70, 85, 100, 120],\n",
    "         'max_features': ['auto', 'sqrt'],\n",
    "         'max_depth': [3, 5, 10, 15, 20],\n",
    "         'min_samples_split': [2, 4, 6],\n",
    "         'min_samples_leaf': [1],\n",
    "         'bootstrap': [True]}]\n",
    "\n",
    "    # Random forests 5-fold cross-validation\n",
    "    rf = GridSearchCV(RandomForestRegressor(), param_grid=grid, cv=5, scoring='neg_mean_absolute_error')\n",
    "    rf.fit(train_x, train_y)\n",
    "    print(rf.best_params_)\n",
    "    # utils.eval_results(actual=test_y, predicted=y_predicted_test, show=True)\n",
    "\n",
    "    return rf\n",
    "\n",
    "\n",
    "# Train model for two datasets\n",
    "print('--- Alcohol Data ---')\n",
    "rf_alcohol = random_forests(train_alcohol_X, train_alcohol_y)\n",
    "print('Trained')\n",
    "print('--- Covid Data ---')\n",
    "rf_covid = random_forests(covid_train_X, covid_train_y)\n",
    "print('Trained')"
   ],
   "metadata": {
    "collapsed": false,
    "pycharm": {
     "name": "#%%\n"
    }
   }
  },
  {
   "cell_type": "code",
   "execution_count": 8,
   "outputs": [
    {
     "name": "stdout",
     "output_type": "stream",
     "text": [
      "--- Alcohol Data ---\n",
      "Trained\n",
      "--- Covid Data ---\n",
      "Trained\n"
     ]
    }
   ],
   "source": [
    "import keras.layers as layer\n",
    "from keras.models import Sequential\n",
    "\n",
    "\n",
    "# LSTM 3-Layer - Recurrent Neural Network\n",
    "\n",
    "def lstm_rnn(train_x, train_y):\n",
    "    # Standardize data and then transform to a suitable input\n",
    "    X_train_loc = utils.standardize(train_x).fillna(0)\n",
    "    train_x_val, train_y_val = X_train_loc.values, train_y.values\n",
    "\n",
    "    train_x_val = train_x_val.reshape((train_x_val.shape[0], 1, train_x_val.shape[1]))\n",
    "\n",
    "    # Neural network architecture\n",
    "    model = Sequential([\n",
    "        layer.Input(shape=(train_x_val.shape[1], train_x_val.shape[2])),\n",
    "        layer.LSTM(40, return_sequences=True),\n",
    "        layer.Dropout(0.25),\n",
    "        layer.LSTM(units=25, return_sequences=True),\n",
    "        layer.Dropout(0.20),\n",
    "        layer.LSTM(units=10, return_sequences=False),\n",
    "        layer.Dense(units=1, activation='linear')\n",
    "    ])\n",
    "\n",
    "    # Compile model using the mean absolute error loss function and the adam optimizer\n",
    "    model.compile(loss='mae', optimizer='adam')\n",
    "    # Train for 40 epochs\n",
    "    model.fit(train_x_val, train_y_val, epochs=40, batch_size=8, verbose=0, shuffle=False)\n",
    "\n",
    "    return model\n",
    "\n",
    "\n",
    "# Train a model for two datasets\n",
    "print('--- Alcohol Data ---')\n",
    "lstm_alcohol = lstm_rnn(train_alcohol_X, train_alcohol_y)\n",
    "print('Trained')\n",
    "print('--- Covid Data ---')\n",
    "lstm_covid = lstm_rnn(covid_train_X, covid_train_y)\n",
    "print('Trained')"
   ],
   "metadata": {
    "collapsed": false,
    "pycharm": {
     "name": "#%%\n"
    }
   }
  },
  {
   "cell_type": "code",
   "execution_count": 9,
   "outputs": [
    {
     "name": "stdout",
     "output_type": "stream",
     "text": [
      "--- Alcohol Data ---\n",
      "Trained\n",
      "--- Covid Data ---\n",
      "Trained\n"
     ]
    }
   ],
   "source": [
    "# LSTM 1-Layer - Recurrent Neural Network\n",
    "\n",
    "def one_lstm_rnn(train_x, train_y):\n",
    "    # Standardize then transform to suitable input\n",
    "    X_train_loc = utils.standardize(train_x).fillna(0)\n",
    "    train_x_val, train_y_val = X_train_loc.values, train_y.values\n",
    "\n",
    "    train_x_val = train_x_val.reshape((train_x_val.shape[0], 1, train_x_val.shape[1]))\n",
    "\n",
    "    # Neural network architecture\n",
    "    model = Sequential([\n",
    "        layer.Input(shape=(train_x_val.shape[1], train_x_val.shape[2])),\n",
    "        layer.Bidirectional(layer.LSTM(32, return_sequences=True)),\n",
    "        layer.Dropout(0.25),\n",
    "        layer.Dense(units=1, activation='linear')\n",
    "    ])\n",
    "\n",
    "    # Compile and train model as the 3-Layer one\n",
    "    model.compile(loss='mae', optimizer='adam')\n",
    "    model.fit(train_x_val, train_y_val, epochs=40, batch_size=8, verbose=0, shuffle=False)\n",
    "\n",
    "    return model\n",
    "\n",
    "\n",
    "print('--- Alcohol Data ---')\n",
    "lstm1_alcohol = one_lstm_rnn(train_alcohol_X, train_alcohol_y)\n",
    "print('Trained')\n",
    "print('--- Covid Data ---')\n",
    "lstm1_covid = one_lstm_rnn(covid_train_X, covid_train_y)\n",
    "print('Trained')"
   ],
   "metadata": {
    "collapsed": false,
    "pycharm": {
     "name": "#%%\n"
    }
   }
  },
  {
   "cell_type": "code",
   "execution_count": null,
   "outputs": [],
   "source": [
    "# Gated Recurrent Unit - Recurrent Neural Network\n",
    "\n",
    "def gru_rnn(train_x, train_y):\n",
    "    # Standardize and transform to suitable input\n",
    "    X_train_loc = utils.standardize(train_x).fillna(0)\n",
    "    train_x_val, train_y_val = X_train_loc.values, train_y.values\n",
    "\n",
    "    train_x_val = train_x_val.reshape((train_x_val.shape[0], 1, train_x_val.shape[1]))\n",
    "\n",
    "    # Neural network architecture\n",
    "    model = Sequential([\n",
    "        layer.Input(shape=(train_x_val.shape[1], train_x_val.shape[2])),\n",
    "        layer.Bidirectional(layer.GRU(units=24)),\n",
    "        layer.RepeatVector(train_x_val.shape[1]),\n",
    "        layer.Bidirectional(layer.GRU(units=24, return_sequences=True)),\n",
    "        layer.TimeDistributed(layer.Dense(units=1, activation='linear'))\n",
    "    ])\n",
    "    # Compile and train model\n",
    "    model.compile(loss='mae', optimizer='adam')\n",
    "    model.fit(train_x_val, train_y_val, epochs=75, batch_size=4, verbose=0, shuffle=False)\n",
    "\n",
    "    return model\n",
    "\n",
    "\n",
    "# Train a GRU model for two datasets\n",
    "print('--- Alcohol Data ---')\n",
    "gru_alcohol = gru_rnn(train_alcohol_X, train_alcohol_y)\n",
    "print('Trained')\n",
    "print('--- Covid Data ---')\n",
    "gru_covid = gru_rnn(covid_train_X, covid_train_y)\n",
    "print('Trained')"
   ],
   "metadata": {
    "collapsed": false,
    "pycharm": {
     "name": "#%%\n"
    }
   }
  },
  {
   "cell_type": "markdown",
   "source": [
    "### 2. Evaluating Performance on Entire Dataset (Alcohol)"
   ],
   "metadata": {
    "collapsed": false,
    "pycharm": {
     "name": "#%% md\n"
    }
   }
  },
  {
   "cell_type": "code",
   "execution_count": 10,
   "outputs": [
    {
     "name": "stdout",
     "output_type": "stream",
     "text": [
      "---- Elastic-Net Results ----\n",
      "Average R_Squared: 0.24006335687457628\n",
      "Average RMSE: 14.180332707305798\n",
      "Average MAE: 10.682079363173175\n",
      "---------------------------------\n",
      "---- Linear SVM Results ----\n",
      "Average R_Squared: 0.23470151268535994\n",
      "Average RMSE: 14.401403063737932\n",
      "Average MAE: 10.551223831581822\n",
      "---------------------------------\n",
      "---- XGBoost Results ----\n",
      "Average R_Squared: 0.23293263945135248\n",
      "Average RMSE: 13.960150864760047\n",
      "Average MAE: 10.409002698725837\n",
      "---------------------------------\n",
      "---- Random Forest Results ----\n",
      "Average R_Squared: 0.22552790896163133\n",
      "Average RMSE: 13.97961379543016\n",
      "Average MAE: 10.351286223765028\n",
      "---------------------------------\n",
      "---- LSTM Results ----\n",
      "Average R_Squared: 0.16600599519943046\n",
      "Average RMSE: 14.903098949406086\n",
      "Average MAE: 10.747439404059012\n",
      "---------------------------------\n",
      "---- 1-LSTM Results ----\n",
      "Average R_Squared: 0.010860335421724019\n",
      "Average RMSE: 16.20896741199095\n",
      "Average MAE: 11.328501175069308\n",
      "---------------------------------\n"
     ]
    }
   ],
   "source": [
    "# Lists to hold the metrics for all patients and models\n",
    "mse_elastic, mse_svm, mse_one_lstm, mse_xgb, mse_rf, mse_lstm, mse_gru = ([] for _ in range(7))\n",
    "rmse_elastic, rmse_svm, rmse_one_lstm, rmse_xgb, rmse_rf, rmse_lstm, rmse_gru = ([] for _ in range(7))\n",
    "mae_elastic, mae_svm, mae_one_lstm, mae_xgb, mae_rf, mae_lstm, mae_gru = ([] for _ in range(7))\n",
    "\n",
    "# Write results to text file\n",
    "f = open(\"output_nomothethic_a.txt\", \"a\")\n",
    "f.write('- - - PER INDIVIDUAL RESULTS GLOBAL MODELS - - -\\n')\n",
    "\n",
    "for x in range(len(test_df)):\n",
    "    # Build and evaluate a model for every single patient\n",
    "\n",
    "    test_alcohol_X, test_alcohol_y = prepare_data(x, test_df)\n",
    "    # Elastic-Net (baseline)\n",
    "    mse, rmse, mae = utils.eval_results(test_alcohol_y,\n",
    "                                         elastic_alcohol.predict(utils.standardize(test_alcohol_X).fillna(0)), False)\n",
    "\n",
    "    # Elastic-Net metrics\n",
    "    mse_elastic.append(mse)\n",
    "    rmse_elastic.append(rmse)\n",
    "    mae_elastic.append(mae)\n",
    "\n",
    "    f.write(\"Patient ID: %s\\n\" % test_df[x]['ID'][0])\n",
    "    f.write('\\n')\n",
    "    f.write('--- Elastic-Net ---\\n')\n",
    "    f.write(\"MSE: %s\\n\" % mse)\n",
    "    f.write(\"RMSE: %s\\n\" % rmse)\n",
    "    f.write(\"MAE: %s\\n\" % mae)\n",
    "    f.write('\\n')\n",
    "\n",
    "    # Linear-SVM\n",
    "\n",
    "    params = [\n",
    "        {'C': np.arange(0.1, 4, 0.1),\n",
    "         'epsilon': np.arange(6, 7, 0.1),\n",
    "         'loss': ['epsilon_insensitive'],\n",
    "         'fit_intercept': [True],\n",
    "         'max_iter': [10000]}]\n",
    "\n",
    "    mse, rmse, mae = utils.eval_results(test_alcohol_y,\n",
    "                                         svm_alcohol.predict(utils.standardize(test_alcohol_X).fillna(0)),\n",
    "                                         False)\n",
    "    # Linear-SVM metrics\n",
    "    mse_svm.append(mse)\n",
    "    rmse_svm.append(rmse)\n",
    "    mae_svm.append(mae)\n",
    "\n",
    "    f.write('--- Linear-SVM ---\\n')\n",
    "    f.write(\"MSE: %s\\n\" % mse)\n",
    "    f.write(\"RMSE: %s\\n\" % rmse)\n",
    "    f.write(\"MAE: %s\\n\" % mae)\n",
    "    f.write('\\n')\n",
    "\n",
    "    # XGBoost Regression\n",
    "    mse, rmse, mae = utils.eval_results(test_alcohol_y, xgb_alcohol.predict(test_alcohol_X), False)\n",
    "    # XGBoost metrics\n",
    "    mse_xgb.append(mse)\n",
    "    rmse_xgb.append(rmse)\n",
    "    mae_xgb.append(mae)\n",
    "\n",
    "    f.write('--- XGBoost ---\\n')\n",
    "    f.write(\"MSE: %s\\n\" % mse)\n",
    "    f.write(\"RMSE: %s\\n\" % rmse)\n",
    "    f.write(\"MAE: %s\\n\" % mae)\n",
    "    f.write('\\n')\n",
    "\n",
    "    # RF\n",
    "    mse, rmse, mae = utils.eval_results(test_alcohol_y, rf_alcohol.predict(test_alcohol_X), False)\n",
    "    # RF metrics\n",
    "    mse_rf.append(mse)\n",
    "    rmse_rf.append(rmse)\n",
    "    mae_rf.append(mae)\n",
    "\n",
    "    f.write('--- Random Forests ---\\n')\n",
    "    f.write(\"MSE: %s\\n\" % mse)\n",
    "    f.write(\"RMSE: %s\\n\" % rmse)\n",
    "    f.write(\"MAE: %s\\n\" % mae)\n",
    "    f.write('\\n')\n",
    "\n",
    "    # LSTM 3-Layer RNN\n",
    "    test_x_val = utils.standardize(test_alcohol_X).fillna(0).values\n",
    "    test_x_val = test_x_val.reshape((test_x_val.shape[0], 1, test_x_val.shape[1]))\n",
    "    mse, rmse, mae = utils.eval_results(test_alcohol_y, lstm_alcohol.predict(\n",
    "        test_x_val).flatten(), False)\n",
    "    # LSTM metrics\n",
    "    mse_lstm.append(mse)\n",
    "    rmse_lstm.append(rmse)\n",
    "    mae_lstm.append(mae)\n",
    "\n",
    "    f.write('--- LSTM RNN ---\\n')\n",
    "    f.write(\"MSE: %s\\n\" % mse)\n",
    "    f.write(\"RMSE: %s\\n\" % rmse)\n",
    "    f.write(\"MAE: %s\\n\" % mae)\n",
    "    f.write('\\n')\n",
    "\n",
    "    # LSTM 1-Layer RNN\n",
    "    mse, rmse, mae = utils.eval_results(test_alcohol_y, lstm1_alcohol.predict(\n",
    "        test_x_val).flatten(), False)\n",
    "    # LSTM metrics\n",
    "    mse_one_lstm.append(mse)\n",
    "    rmse_one_lstm.append(rmse)\n",
    "    mae_one_lstm.append(mae)\n",
    "\n",
    "    f.write('--- 1-LSTM RNN ---\\n')\n",
    "    f.write(\"MSE: %s\\n\" % mse)\n",
    "    f.write(\"RMSE: %s\\n\" % rmse)\n",
    "    f.write(\"MAE: %s\\n\" % mae)\n",
    "    f.write('\\n')\n",
    "\n",
    "    # GRU RNN\n",
    "\n",
    "    mse, rmse, mae = utils.eval_results(test_alcohol_y, gru_alcohol.predict(test_x_val).flatten(), False)\n",
    "\n",
    "    # GRU metrics\n",
    "    mse_gru.append(mse)\n",
    "    rmse_gru.append(rmse)\n",
    "    mae_gru.append(mae)\n",
    "\n",
    "    f.write('--- GRU RNN ---\\n')\n",
    "    f.write(\"MSE: %s\\n\" % mse)\n",
    "    f.write(\"RMSE: %s\\n\" % rmse)\n",
    "    f.write(\"MAE: %s\\n\" % mae)\n",
    "    f.write('\\n')\n",
    "\n",
    "f.close()\n",
    "# Compute average metrics for all models\n",
    "print('---- Elastic-Net Results ----')\n",
    "utils.average_metrics(mse_elastic, rmse_elastic, mae_elastic)\n",
    "print('---------------------------------')\n",
    "print('---- Linear SVM Results ----')\n",
    "utils.average_metrics(mse_svm, rmse_svm, mae_svm)\n",
    "print('---------------------------------')\n",
    "print('---- XGBoost Results ----')\n",
    "utils.average_metrics(mse_xgb, rmse_xgb, mae_xgb)\n",
    "print('---------------------------------')\n",
    "print('---- Random Forest Results ----')\n",
    "utils.average_metrics(mse_rf, rmse_rf, mae_rf)\n",
    "print('---------------------------------')\n",
    "print('---- LSTM Results ----')\n",
    "utils.average_metrics(mse_lstm, rmse_lstm, mae_lstm)\n",
    "print('---------------------------------')\n",
    "print('---- 1-LSTM Results ----')\n",
    "utils.average_metrics(mse_one_lstm, rmse_one_lstm, mae_one_lstm)\n",
    "print('---------------------------------')\n",
    "print('---- GRU Results ----')\n",
    "utils.average_metrics(mse_gru, rmse_gru, mae_gru)\n",
    "print('---------------------------------')\n",
    "\n",
    "rmse_overall = rmse_elastic + rmse_svm + rmse_xgb + rmse_rf + rmse_lstm + rmse_one_lstm + rmse_gru\n",
    "n = len(rmse_rf)\n",
    "model_names = ['Elastic Net'] * n + ['SVM'] * n + ['XGBoost'] * n + ['RF'] * n + ['3-Layer LSTM'] * n + [\n",
    "    '1-Layer LSTM'] * n + ['GRU'] * n\n",
    "dataset = ['Alcohol'] * len(model_names)"
   ],
   "metadata": {
    "collapsed": false,
    "pycharm": {
     "name": "#%%\n"
    }
   }
  },
  {
   "cell_type": "markdown",
   "source": [
    "### 2.1 Evaluating Performance on Entire Dataset (COVID-19)"
   ],
   "metadata": {
    "collapsed": false,
    "pycharm": {
     "name": "#%% md\n"
    }
   }
  },
  {
   "cell_type": "code",
   "execution_count": 12,
   "outputs": [
    {
     "name": "stdout",
     "output_type": "stream",
     "text": [
      "---- Elastic-Net Results ----\n",
      "Average MAPE: 0.45307565997239435\n",
      "Average RMSE: 0.883394075610157\n",
      "Average MAE: 0.7302551453337811\n",
      "---------------------------------\n",
      "---- Linear SVM Results ----\n",
      "Average MAPE: 0.48201753946287196\n",
      "Average RMSE: 1.0121748809858786\n",
      "Average MAE: 0.8007018151264567\n",
      "---------------------------------\n",
      "---- XGBoost Results ----\n",
      "Average MAPE: 0.3040780971500327\n",
      "Average RMSE: 0.6047595152268893\n",
      "Average MAE: 0.48073697638237617\n",
      "---------------------------------\n",
      "---- Random Forest Results ----\n",
      "Average MAPE: 0.28795423448046786\n",
      "Average RMSE: 0.595598735796749\n",
      "Average MAE: 0.4520136183894651\n",
      "---------------------------------\n",
      "---- LSTM Results ----\n",
      "Average MAPE: 0.44200061972324667\n",
      "Average RMSE: 0.9266709980892981\n",
      "Average MAE: 0.7495321409165806\n",
      "---------------------------------\n",
      "---- 1-LSTM Results ----\n",
      "Average MAPE: 0.39063713070946104\n",
      "Average RMSE: 0.8641972047844878\n",
      "Average MAE: 0.7047873287866011\n",
      "---------------------------------\n"
     ]
    }
   ],
   "source": [
    "# Lists to hold the metrics for all patients and models\n",
    "mse_elastic, mse_svm, mse_one_lstm, mse_xgb, mse_rf, mse_lstm, mse_gru = ([] for _ in range(7))\n",
    "rmse_elastic, rmse_svm, rmse_one_lstm, rmse_xgb, rmse_rf, rmse_lstm, rmse_gru = ([] for _ in range(7))\n",
    "mae_elastic, mae_svm, mae_one_lstm, mae_xgb, mae_rf, mae_lstm, mae_gru = ([] for _ in range(7))\n",
    "\n",
    "# Write results to text file\n",
    "f = open(\"output_nomothethic_c.txt\", \"a\")\n",
    "f.write('- - - PER INDIVIDUAL RESULTS GLOBAL MODELS - - -\\n')\n",
    "\n",
    "for z in range(len(covid_train_x_list)):\n",
    "    # Build and evaluate a model for every single patient\n",
    "\n",
    "    # Elastic-Net (baseline)\n",
    "    mse, rmse, mae = utils.eval_results(covid_test_y_list[z],\n",
    "                                         elastic_covid.predict(utils.standardize(covid_test_x_list[z]).fillna(0)),\n",
    "                                         False)\n",
    "\n",
    "    # Elastic-Net metrics\n",
    "    mse_elastic.append(mse)\n",
    "    rmse_elastic.append(rmse)\n",
    "    mae_elastic.append(mae)\n",
    "\n",
    "    f.write(\"Patient ID: %s\\n\" % z)\n",
    "    f.write('\\n')\n",
    "    f.write('--- Elastic-Net ---\\n')\n",
    "    f.write(\"MSE: %s\\n\" % mse)\n",
    "    f.write(\"RMSE: %s\\n\" % rmse)\n",
    "    f.write(\"MAE: %s\\n\" % mae)\n",
    "    f.write('\\n')\n",
    "\n",
    "    # Linear-SVM\n",
    "\n",
    "    params = [\n",
    "        {'C': np.arange(0.1, 2, 0.1),\n",
    "         'epsilon': np.arange(0, 0.5, 0.1),\n",
    "         'loss': ['epsilon_insensitive'],\n",
    "         'fit_intercept': [True],\n",
    "         'max_iter': [10000]}]\n",
    "\n",
    "    mse, rmse, mae = utils.eval_results(covid_test_y_list[z],\n",
    "                                         svm_covid.predict(utils.standardize(covid_test_x_list[z]).fillna(0)),\n",
    "                                         False)\n",
    "    # Linear-SVM metrics\n",
    "    mse_svm.append(mse)\n",
    "    rmse_svm.append(rmse)\n",
    "    mae_svm.append(mae)\n",
    "\n",
    "    f.write('--- Linear-SVM ---\\n')\n",
    "    f.write(\"MSE: %s\\n\" % mse)\n",
    "    f.write(\"RMSE: %s\\n\" % rmse)\n",
    "    f.write(\"MAE: %s\\n\" % mae)\n",
    "    f.write('\\n')\n",
    "\n",
    "    # XGBoost Regression\n",
    "    mse, rmse, mae = utils.eval_results(covid_test_y_list[z], xgb_covid.predict(covid_test_x_list[z]), False)\n",
    "    # XGBoost metrics\n",
    "    mse_xgb.append(mse)\n",
    "    rmse_xgb.append(rmse)\n",
    "    mae_xgb.append(mae)\n",
    "\n",
    "    f.write('--- XGBoost ---\\n')\n",
    "    f.write(\"MSE: %s\\n\" % mse)\n",
    "    f.write(\"RMSE: %s\\n\" % rmse)\n",
    "    f.write(\"MAE: %s\\n\" % mae)\n",
    "    f.write('\\n')\n",
    "\n",
    "    # RF\n",
    "    mse, rmse, mae = utils.eval_results(covid_test_y_list[z], rf_covid.predict(covid_test_x_list[z]), False)\n",
    "    # RF metrics\n",
    "    mse_rf.append(mse)\n",
    "    rmse_rf.append(rmse)\n",
    "    mae_rf.append(mae)\n",
    "\n",
    "    f.write('--- Random Forests ---\\n')\n",
    "    f.write(\"MSE: %s\\n\" % mse)\n",
    "    f.write(\"RMSE: %s\\n\" % rmse)\n",
    "    f.write(\"MAE: %s\\n\" % mae)\n",
    "    f.write('\\n')\n",
    "\n",
    "    # LSTM 3-Layer RNN\n",
    "    test_x_val = utils.standardize(covid_test_x_list[z]).fillna(0).values\n",
    "    test_x_val = test_x_val.reshape((test_x_val.shape[0], 1, test_x_val.shape[1]))\n",
    "    mse, rmse, mae = utils.eval_results(covid_test_y_list[z], lstm_covid.predict(\n",
    "        test_x_val).flatten(), False)\n",
    "    # LSTM metrics\n",
    "    mse_lstm.append(mse)\n",
    "    rmse_lstm.append(rmse)\n",
    "    mae_lstm.append(mae)\n",
    "\n",
    "    f.write('--- LSTM RNN ---\\n')\n",
    "    f.write(\"MSE: %s\\n\" % mse)\n",
    "    f.write(\"RMSE: %s\\n\" % rmse)\n",
    "    f.write(\"MAE: %s\\n\" % mae)\n",
    "    f.write('\\n')\n",
    "\n",
    "    # LSTM 1-Layer RNN\n",
    "    mse, rmse, mae = utils.eval_results(covid_test_y_list[z], lstm1_covid.predict(\n",
    "        test_x_val).flatten(), False)\n",
    "    # LSTM metrics\n",
    "    mse_one_lstm.append(mse)\n",
    "    rmse_one_lstm.append(rmse)\n",
    "    mae_one_lstm.append(mae)\n",
    "\n",
    "    f.write('--- 1-LSTM RNN ---\\n')\n",
    "    f.write(\"MSE: %s\\n\" % mse)\n",
    "    f.write(\"RMSE: %s\\n\" % rmse)\n",
    "    f.write(\"MAE: %s\\n\" % mae)\n",
    "    f.write('\\n')\n",
    "\n",
    "    # GRU RNN\n",
    "    mse, rmse, mae = utils.eval_results(covid_test_y_list[z], gru_covid.predict(test_x_val).flatten(), False)\n",
    "\n",
    "    # GRU metrics\n",
    "    mse_gru.append(mse)\n",
    "    rmse_gru.append(rmse)\n",
    "    mae_gru.append(mae)\n",
    "\n",
    "    f.write('--- GRU RNN ---\\n')\n",
    "    f.write(\"MSE: %s\\n\" % mse)\n",
    "    f.write(\"RMSE: %s\\n\" % rmse)\n",
    "    f.write(\"MAE: %s\\n\" % mae)\n",
    "    f.write('\\n')\n",
    "\n",
    "f.close()\n",
    "# Compute average metrics for all models\n",
    "print('---- Elastic-Net Results ----')\n",
    "utils.average_metrics(mse_elastic, rmse_elastic, mae_elastic)\n",
    "print('---------------------------------')\n",
    "print('---- Linear SVM Results ----')\n",
    "utils.average_metrics(mse_svm, rmse_svm, mae_svm)\n",
    "print('---------------------------------')\n",
    "print('---- XGBoost Results ----')\n",
    "utils.average_metrics(mse_xgb, rmse_xgb, mae_xgb)\n",
    "print('---------------------------------')\n",
    "print('---- Random Forest Results ----')\n",
    "utils.average_metrics(mse_rf, rmse_rf, mae_rf)\n",
    "print('---------------------------------')\n",
    "print('---- LSTM Results ----')\n",
    "utils.average_metrics(mse_lstm, rmse_lstm, mae_lstm)\n",
    "print('---------------------------------')\n",
    "print('---- 1-LSTM Results ----')\n",
    "utils.average_metrics(mse_one_lstm, rmse_one_lstm, mae_one_lstm)\n",
    "print('---------------------------------')\n",
    "print('---- GRU Results ----')\n",
    "utils.average_metrics(mse_gru, rmse_gru, mae_gru)\n",
    "print('---------------------------------')\n",
    "\n",
    "rmse_overall_covid = rmse_elastic + rmse_svm + rmse_xgb + rmse_rf + rmse_lstm + rmse_one_lstm + rmse_gru\n",
    "n = len(rmse_rf)\n",
    "model_names_covid = ['Elastic Net'] * n + ['SVM'] * n + ['XGBoost'] * n + ['RF'] * n + ['3-Layer LSTM'] * n + [\n",
    "    '1-Layer LSTM'] * n + ['GRU'] * n\n",
    "dataset_covid = ['COVID-19'] * len(model_names)"
   ],
   "metadata": {
    "collapsed": false,
    "pycharm": {
     "name": "#%%\n"
    }
   }
  },
  {
   "cell_type": "code",
   "execution_count": null,
   "outputs": [],
   "source": [
    "# Generate a box-plot\n",
    "rmse = rmse_overall + rmse_overall_covid\n",
    "models = model_names + model_names_covid\n",
    "dataset_names = dataset + dataset_covid\n",
    "\n",
    "dictionary = {'RMSE': rmse, 'Model': models, 'Dataset': dataset_names}\n",
    "df = pd.DataFrame(data=dictionary)\n",
    "boxplot = sns.catplot(x='Model', y='RMSE', col='Dataset',\n",
    "                      data=df, kind=\"box\",\n",
    "                      height=4, aspect=.7)\n",
    "# boxplot = sns.boxplot(data=df, y='RMSE', x='Model', palette=\"Set3\")\n",
    "boxplot.set(title='RMSE Values For All Individuals', ylabel='RMSE')"
   ],
   "metadata": {
    "collapsed": false,
    "pycharm": {
     "name": "#%%\n"
    }
   }
  }
 ],
 "metadata": {
  "kernelspec": {
   "display_name": "Python 3",
   "language": "python",
   "name": "python3"
  },
  "language_info": {
   "codemirror_mode": {
    "name": "ipython",
    "version": 2
   },
   "file_extension": ".py",
   "mimetype": "text/x-python",
   "name": "python",
   "nbconvert_exporter": "python",
   "pygments_lexer": "ipython2",
   "version": "2.7.6"
  }
 },
 "nbformat": 4,
 "nbformat_minor": 0
}