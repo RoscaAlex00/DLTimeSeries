{
 "cells": [
  {
   "cell_type": "markdown",
   "metadata": {
    "collapsed": true,
    "pycharm": {
     "name": "#%% md\n"
    }
   },
   "source": [
    "# 1-step Forecasting with linear and non-linear models (Nomothetic)"
   ]
  },
  {
   "cell_type": "code",
   "execution_count": 1,
   "outputs": [],
   "source": [
    "import pandas as pd\n",
    "import numpy as np\n",
    "%matplotlib inline\n",
    "import matplotlib.pyplot as plt\n",
    "import seaborn as sns\n",
    "from sklearn.svm import LinearSVR\n",
    "from sklearn.model_selection import GridSearchCV\n",
    "import xgboost as xgb\n",
    "from sklearn import linear_model as lm\n",
    "from sklearn.model_selection import train_test_split\n",
    "import sklearn.metrics as metrics\n",
    "\n",
    "import utils\n",
    "\n",
    "# Plot settings\n",
    "plt.rcParams['figure.figsize'] = (16, 8)\n",
    "plt.rcParams['figure.dpi'] = 150\n",
    "sns.set()"
   ],
   "metadata": {
    "collapsed": false,
    "pycharm": {
     "name": "#%%\n"
    }
   }
  },
  {
   "cell_type": "code",
   "execution_count": 2,
   "outputs": [],
   "source": [
    "# Reading alcohol data\n",
    "train_df, test_df, data_raw_list = utils.load_alcohol()\n",
    "\n",
    "combined_data = []\n",
    "\n",
    "train_alcohol = pd.concat(train_df, ignore_index=True)\n",
    "train_alcohol_X = train_alcohol.drop(train_alcohol.columns[range(0, 61)], axis=1).fillna(0)\n",
    "train_alcohol_y = train_alcohol['craving']\n",
    "\n",
    "\n",
    "def prepare_data(idx, test_list):\n",
    "    # print('Patient ID:', test_list[idx]['ID'][0])\n",
    "    X_test = test_list[idx].drop(test_list[idx].columns[range(0, 61)], axis=1).fillna(0)\n",
    "    y_test = test_list[idx]['craving']\n",
    "    return X_test, y_test\n"
   ],
   "metadata": {
    "collapsed": false,
    "pycharm": {
     "name": "#%%\n"
    }
   }
  },
  {
   "cell_type": "code",
   "execution_count": 3,
   "outputs": [
    {
     "name": "stdout",
     "output_type": "stream",
     "text": [
      "Patient included in study:\n",
      "[1, 2, 3, 4, 5, 6, 7, 8, 9, 10, 11, 13, 14, 15, 16, 17, 19, 20, 21, 22, 23, 24, 25, 26, 27, 28, 29, 30, 31, 32, 33, 34, 35, 36, 37, 38, 39, 40, 41, 42, 43, 46, 48, 49, 50, 52, 53, 54, 55, 57, 58, 59, 63, 64, 65, 66, 67, 68, 70, 71, 72, 73, 74, 75, 77, 78]\n"
     ]
    }
   ],
   "source": [
    "# Loading train and test data of covid patients\n",
    "covid_train_x_list, covid_test_x_list, covid_train_y_list, covid_test_y_list = utils.patients_covid()\n",
    "\n",
    "covid_train_X = pd.concat(covid_train_x_list, ignore_index=True)\n",
    "covid_train_y = pd.concat(covid_train_y_list, ignore_index=True)\n"
   ],
   "metadata": {
    "collapsed": false,
    "pycharm": {
     "name": "#%%\n"
    }
   }
  },
  {
   "cell_type": "markdown",
   "source": [
    "# 1. Nomothetic Models Regression"
   ],
   "metadata": {
    "collapsed": false,
    "pycharm": {
     "name": "#%% md\n"
    }
   }
  },
  {
   "cell_type": "code",
   "execution_count": 9,
   "outputs": [
    {
     "name": "stdout",
     "output_type": "stream",
     "text": [
      "--- Alcohol Data ---\n",
      "--- Elastic-Net Global Results ---\n",
      "R_squared: 0.3739585079648516\n",
      "MAPE: 0.8727735940920615\n",
      "RMSE: 20.49355174027907\n",
      "MAE: 18.52613409884371\n",
      "CORR: 0.611521469749715\n",
      "--- Covid Data ---\n",
      "--- Elastic-Net Global Results ---\n",
      "R_squared: 0.6634627901021372\n",
      "MAPE: 0.3886173418152433\n",
      "RMSE: 0.4984005787041621\n",
      "MAE: 0.45580592466727055\n",
      "CORR: 0.8145322523400391\n"
     ]
    }
   ],
   "source": [
    "# Elastic-Net\n",
    "def elastic_net(train_x, test_x, train_y, test_y):\n",
    "    X_train_loc = utils.standardize(train_x).fillna(0)\n",
    "    X_test_loc = utils.standardize(test_x).fillna(0)\n",
    "\n",
    "    l1_ratios = np.arange(0.01, 0.6, 0.05)\n",
    "    elastic_reg = lm.ElasticNetCV(alphas=np.arange(0.01, 20, 0.05), l1_ratio=l1_ratios, cv=5, max_iter=100000,\n",
    "                                  fit_intercept=True)\n",
    "    elastic_reg.fit(X_train_loc, train_y)\n",
    "    y_predicted_test = elastic_reg.predict(X_test_loc)\n",
    "\n",
    "    print('--- Elastic-Net Global Results ---')\n",
    "    utils.eval_results(actual=test_y, predicted=y_predicted_test, show=True)\n",
    "\n",
    "\n",
    "print('--- Alcohol Data ---')\n",
    "test_alcohol_X, test_alcohol_y = prepare_data(1, test_df)\n",
    "elastic_net(train_alcohol_X, test_alcohol_X, train_alcohol_y, test_alcohol_y)\n",
    "print('--- Covid Data ---')\n",
    "elastic_net(covid_train_X, covid_test_x_list[4], covid_train_y, covid_test_y_list[4])"
   ],
   "metadata": {
    "collapsed": false,
    "pycharm": {
     "name": "#%%\n"
    }
   }
  },
  {
   "cell_type": "code",
   "execution_count": 10,
   "outputs": [
    {
     "name": "stdout",
     "output_type": "stream",
     "text": [
      "--- Alcohol Data ---\n",
      "--- Linear-SVM Global Results ---\n",
      "R_squared: 0.3692304162341966\n",
      "MAPE: 0.8408454291054853\n",
      "RMSE: 20.303494912671287\n",
      "MAE: 17.95215955023266\n",
      "CORR: 0.607643329786641\n",
      "--- Covid Data ---\n",
      "--- Linear-SVM Global Results ---\n",
      "R_squared: nan\n",
      "MAPE: 1.0\n",
      "RMSE: 1.4411533842457842\n",
      "MAE: 1.3076923076923077\n",
      "CORR: nan\n"
     ]
    },
    {
     "name": "stderr",
     "output_type": "stream",
     "text": [
      "C:\\Users\\Alex\\AppData\\Local\\Programs\\Python\\Python38\\lib\\site-packages\\numpy\\lib\\function_base.py:2829: RuntimeWarning: invalid value encountered in true_divide\n",
      "  c /= stddev[:, None]\n",
      "C:\\Users\\Alex\\AppData\\Local\\Programs\\Python\\Python38\\lib\\site-packages\\numpy\\lib\\function_base.py:2830: RuntimeWarning: invalid value encountered in true_divide\n",
      "  c /= stddev[None, :]\n"
     ]
    }
   ],
   "source": [
    "# Linear-SVM\n",
    "def linear_svm(train_x, test_x, train_y, test_y):\n",
    "    X_train_loc = utils.standardize(train_x).fillna(0)\n",
    "    X_test_loc = utils.standardize(test_x).fillna(0)\n",
    "\n",
    "    params = [\n",
    "        {'C': np.arange(0.1, 4, 0.1),\n",
    "         'epsilon': np.arange(6, 7, 0.1),\n",
    "         'loss': ['epsilon_insensitive'],\n",
    "         'fit_intercept': [True],\n",
    "         'max_iter': [10000]}]\n",
    "\n",
    "    clf = GridSearchCV(estimator=LinearSVR(), param_grid=params, scoring='r2', cv=5)\n",
    "    clf.fit(X_train_loc, train_y)\n",
    "    # best_params = clf.best_params_\n",
    "    # print(best_params)\n",
    "    y_predicted_test = clf.predict(X_test_loc)\n",
    "    print('--- Linear-SVM Global Results ---')\n",
    "    utils.eval_results(actual=test_y, predicted=y_predicted_test, show=True)\n",
    "\n",
    "\n",
    "print('--- Alcohol Data ---')\n",
    "linear_svm(train_alcohol_X, test_alcohol_X, train_alcohol_y, test_alcohol_y)\n",
    "print('--- Covid Data ---')\n",
    "linear_svm(covid_train_X, covid_test_x_list[4], covid_train_y, covid_test_y_list[4])"
   ],
   "metadata": {
    "collapsed": false,
    "pycharm": {
     "name": "#%%\n"
    }
   }
  },
  {
   "cell_type": "code",
   "execution_count": 11,
   "outputs": [
    {
     "name": "stdout",
     "output_type": "stream",
     "text": [
      "--- Alcohol Data ---\n",
      "{'alpha': 0.9, 'booster': 'gbtree', 'eval_metric': 'rmse', 'max_depth': 1, 'n_estimators': 20, 'objective': 'reg:squarederror'}\n",
      "--- XGBoost Global Results ---\n",
      "R_squared: 0.29090242492218193\n",
      "MAPE: 0.8906545349968121\n",
      "RMSE: 21.077650879894065\n",
      "MAE: 18.788489587340006\n",
      "CORR: 0.5393537103999396\n",
      "--- Covid Data ---\n",
      "{'alpha': 0.30000000000000004, 'booster': 'gbtree', 'eval_metric': 'rmse', 'max_depth': 1, 'n_estimators': 20, 'objective': 'reg:squarederror'}\n",
      "--- XGBoost Global Results ---\n",
      "R_squared: 0.6990186372545738\n",
      "MAPE: 0.29537581786131245\n",
      "RMSE: 0.39020285886847317\n",
      "MAE: 0.3671043377656203\n",
      "CORR: 0.8360733444229482\n"
     ]
    }
   ],
   "source": [
    "# XGBoost\n",
    "def xgboost_reg(train_x, test_x, train_y, test_y):\n",
    "    params = [\n",
    "        {'objective': ['reg:squarederror'],\n",
    "         'n_estimators': [20, 25, 30],\n",
    "         'booster': ['gbtree'],\n",
    "         'alpha': np.arange(0, 1, 0.1),\n",
    "         'eval_metric': ['rmse'],\n",
    "         'max_depth': np.arange(1, 8, 1)}]\n",
    "\n",
    "    reg_xgb = GridSearchCV(xgb.XGBRegressor(), params, cv=5, scoring='r2')\n",
    "    reg_xgb.fit(train_x, train_y)\n",
    "    print(reg_xgb.best_params_)\n",
    "    y_predicted_test = reg_xgb.predict(test_x)\n",
    "    print('--- XGBoost Global Results ---')\n",
    "    utils.eval_results(actual=test_y, predicted=y_predicted_test, show=True)\n",
    "\n",
    "\n",
    "print('--- Alcohol Data ---')\n",
    "xgboost_reg(train_alcohol_X, test_alcohol_X, train_alcohol_y, test_alcohol_y)\n",
    "print('--- Covid Data ---')\n",
    "xgboost_reg(covid_train_X, covid_test_x_list[4], covid_train_y, covid_test_y_list[4])"
   ],
   "metadata": {
    "collapsed": false,
    "pycharm": {
     "name": "#%%\n"
    }
   }
  },
  {
   "cell_type": "code",
   "execution_count": 12,
   "outputs": [
    {
     "name": "stdout",
     "output_type": "stream",
     "text": [
      "--- Alcohol Data ---\n",
      "R_squared: 0.2714364894166515\n",
      "MAPE: 0.8856621244344209\n",
      "RMSE: 21.457228176625897\n",
      "MAE: 19.020308275194985\n",
      "CORR: 0.5209956712072102\n",
      "--- Covid Data ---\n",
      "R_squared: 0.6231214283160843\n",
      "MAPE: 0.1470502584408491\n",
      "RMSE: 0.43600344400318214\n",
      "MAE: 0.2363260525923509\n",
      "CORR: 0.7893804078618143\n"
     ]
    }
   ],
   "source": [
    "import keras.layers as layer\n",
    "from keras.models import Sequential\n",
    "\n",
    "\n",
    "# LSTM - Recurrent Neural Network\n",
    "def lstm_rnn(train_x, test_x, train_y, test_y):\n",
    "    X_train_loc = utils.standardize(train_x).fillna(0)\n",
    "    X_test_loc = utils.standardize(test_x).fillna(0)\n",
    "    train_x_val, train_y_val, test_x_val, test_y_val = X_train_loc.values, train_y.values, X_test_loc.values, test_y.values\n",
    "\n",
    "    train_x_val = train_x_val.reshape((train_x_val.shape[0], 1, train_x_val.shape[1]))\n",
    "    test_x_val = test_x_val.reshape((test_x_val.shape[0], 1, test_x_val.shape[1]))\n",
    "\n",
    "    model = Sequential([\n",
    "        layer.LSTM(40, return_sequences=True, input_shape=(train_x_val.shape[1], train_x_val.shape[2])),\n",
    "        layer.Dropout(0.25),\n",
    "        layer.LSTM(units=25, return_sequences=True),\n",
    "        layer.Dropout(0.20),\n",
    "        layer.LSTM(units=10, return_sequences=False),\n",
    "        layer.Dense(units=1, activation='linear'),\n",
    "    ])\n",
    "    model.compile(loss='mae', optimizer='adam')\n",
    "    model.fit(train_x_val, train_y_val, epochs=30, batch_size=8, verbose=0, shuffle=False)\n",
    "\n",
    "    y_predicted_test = model.predict(test_x_val)\n",
    "\n",
    "    utils.eval_results(actual=test_y, predicted=y_predicted_test.flatten(), show=True)\n",
    "\n",
    "\n",
    "print('--- Alcohol Data ---')\n",
    "lstm_rnn(train_alcohol_X, test_alcohol_X, train_alcohol_y, test_alcohol_y)\n",
    "print('--- Covid Data ---')\n",
    "lstm_rnn(covid_train_X, covid_test_x_list[4], covid_train_y, covid_test_y_list[4])"
   ],
   "metadata": {
    "collapsed": false,
    "pycharm": {
     "name": "#%%\n"
    }
   }
  },
  {
   "cell_type": "code",
   "execution_count": null,
   "outputs": [],
   "source": [],
   "metadata": {
    "collapsed": false,
    "pycharm": {
     "name": "#%%\n"
    }
   }
  }
 ],
 "metadata": {
  "kernelspec": {
   "display_name": "Python 3",
   "language": "python",
   "name": "python3"
  },
  "language_info": {
   "codemirror_mode": {
    "name": "ipython",
    "version": 2
   },
   "file_extension": ".py",
   "mimetype": "text/x-python",
   "name": "python",
   "nbconvert_exporter": "python",
   "pygments_lexer": "ipython2",
   "version": "2.7.6"
  }
 },
 "nbformat": 4,
 "nbformat_minor": 0
}