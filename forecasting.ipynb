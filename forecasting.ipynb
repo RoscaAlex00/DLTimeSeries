{
 "cells": [
  {
   "cell_type": "markdown",
   "metadata": {
    "collapsed": true,
    "pycharm": {
     "name": "#%% md\n"
    }
   },
   "source": [
    "# 1-step Forecasting with linear and non-linear models"
   ]
  },
  {
   "cell_type": "code",
   "execution_count": 123,
   "outputs": [],
   "source": [
    "import pandas as pd\n",
    "import numpy as np\n",
    "%matplotlib inline\n",
    "import matplotlib.pyplot as plt\n",
    "import seaborn as sns\n",
    "from sklearn.svm import LinearSVR\n",
    "from sklearn.model_selection import GridSearchCV\n",
    "from sklearn.model_selection import RandomizedSearchCV\n",
    "import xgboost as xgb\n",
    "from xgboost import plot_importance, plot_tree\n",
    "from sklearn.model_selection import train_test_split\n",
    "from sklearn import linear_model as lm\n",
    "from sklearn.neighbors import KNeighborsRegressor\n",
    "import sklearn.metrics as metrics\n",
    "\n",
    "import load_data\n",
    "\n",
    "# Plot settings\n",
    "plt.rcParams['figure.figsize'] = (16, 8)\n",
    "plt.rcParams['figure.dpi'] = 150\n",
    "sns.set()"
   ],
   "metadata": {
    "collapsed": false,
    "pycharm": {
     "name": "#%%\n"
    }
   }
  },
  {
   "cell_type": "code",
   "execution_count": 124,
   "outputs": [
    {
     "data": {
      "text/plain": "    Unnamed: 0  ID               start          finish  drinks  comfortable  \\\n0            1   1 2018-02-06 16:20:00  2/6/2018 16:22       3     7.382609   \n31           2   1 2018-02-06 18:54:00  2/6/2018 18:58       0    14.382609   \n1            3   1 2018-02-06 20:08:00  2/6/2018 20:22       0    15.382609   \n2            4   1 2018-02-06 22:29:00  2/6/2018 22:46       0    21.382609   \n36           5   1 2018-02-07 10:52:00  2/7/2018 11:23       0   -11.617391   \n\n     stressed       down       calm   pressure  ...    cosT.1    sinT.1  \\\n0   -9.817391  10.843478 -37.791304   6.173913  ...  1.000000  0.000000   \n31  47.182609   7.843478   7.208696  10.173913  ...  0.892979  0.450098   \n1   12.182609  10.843478  20.208696  18.173913  ...  0.418660  0.908143   \n2   -5.817391  -2.156522   8.208696   5.173913  ...  0.108867  0.994056   \n36   5.182609   0.843478 -24.791304  -4.826087  ...  0.043619 -0.999048   \n\n     cos2T.1   sin2T.1    cosW.1    sinW.1  dayvar.1  beepvar.1  filter.1  \\\n0   1.000000  0.000000  1.000000  0.000000         1          4         0   \n31  0.594823  0.803857  0.997777  0.066647         1          5         0   \n1  -0.649448  0.760406  0.986795  0.161973         1          6         0   \n2  -0.976296  0.216440  0.978277  0.207302         1          7         0   \n36 -0.996195 -0.087156  0.777930  0.628351         2          1         0   \n\n    consec.1  \n0          1  \n31         2  \n1          3  \n2          4  \n36         7  \n\n[5 rows x 116 columns]",
      "text/html": "<div>\n<style scoped>\n    .dataframe tbody tr th:only-of-type {\n        vertical-align: middle;\n    }\n\n    .dataframe tbody tr th {\n        vertical-align: top;\n    }\n\n    .dataframe thead th {\n        text-align: right;\n    }\n</style>\n<table border=\"1\" class=\"dataframe\">\n  <thead>\n    <tr style=\"text-align: right;\">\n      <th></th>\n      <th>Unnamed: 0</th>\n      <th>ID</th>\n      <th>start</th>\n      <th>finish</th>\n      <th>drinks</th>\n      <th>comfortable</th>\n      <th>stressed</th>\n      <th>down</th>\n      <th>calm</th>\n      <th>pressure</th>\n      <th>...</th>\n      <th>cosT.1</th>\n      <th>sinT.1</th>\n      <th>cos2T.1</th>\n      <th>sin2T.1</th>\n      <th>cosW.1</th>\n      <th>sinW.1</th>\n      <th>dayvar.1</th>\n      <th>beepvar.1</th>\n      <th>filter.1</th>\n      <th>consec.1</th>\n    </tr>\n  </thead>\n  <tbody>\n    <tr>\n      <th>0</th>\n      <td>1</td>\n      <td>1</td>\n      <td>2018-02-06 16:20:00</td>\n      <td>2/6/2018 16:22</td>\n      <td>3</td>\n      <td>7.382609</td>\n      <td>-9.817391</td>\n      <td>10.843478</td>\n      <td>-37.791304</td>\n      <td>6.173913</td>\n      <td>...</td>\n      <td>1.000000</td>\n      <td>0.000000</td>\n      <td>1.000000</td>\n      <td>0.000000</td>\n      <td>1.000000</td>\n      <td>0.000000</td>\n      <td>1</td>\n      <td>4</td>\n      <td>0</td>\n      <td>1</td>\n    </tr>\n    <tr>\n      <th>31</th>\n      <td>2</td>\n      <td>1</td>\n      <td>2018-02-06 18:54:00</td>\n      <td>2/6/2018 18:58</td>\n      <td>0</td>\n      <td>14.382609</td>\n      <td>47.182609</td>\n      <td>7.843478</td>\n      <td>7.208696</td>\n      <td>10.173913</td>\n      <td>...</td>\n      <td>0.892979</td>\n      <td>0.450098</td>\n      <td>0.594823</td>\n      <td>0.803857</td>\n      <td>0.997777</td>\n      <td>0.066647</td>\n      <td>1</td>\n      <td>5</td>\n      <td>0</td>\n      <td>2</td>\n    </tr>\n    <tr>\n      <th>1</th>\n      <td>3</td>\n      <td>1</td>\n      <td>2018-02-06 20:08:00</td>\n      <td>2/6/2018 20:22</td>\n      <td>0</td>\n      <td>15.382609</td>\n      <td>12.182609</td>\n      <td>10.843478</td>\n      <td>20.208696</td>\n      <td>18.173913</td>\n      <td>...</td>\n      <td>0.418660</td>\n      <td>0.908143</td>\n      <td>-0.649448</td>\n      <td>0.760406</td>\n      <td>0.986795</td>\n      <td>0.161973</td>\n      <td>1</td>\n      <td>6</td>\n      <td>0</td>\n      <td>3</td>\n    </tr>\n    <tr>\n      <th>2</th>\n      <td>4</td>\n      <td>1</td>\n      <td>2018-02-06 22:29:00</td>\n      <td>2/6/2018 22:46</td>\n      <td>0</td>\n      <td>21.382609</td>\n      <td>-5.817391</td>\n      <td>-2.156522</td>\n      <td>8.208696</td>\n      <td>5.173913</td>\n      <td>...</td>\n      <td>0.108867</td>\n      <td>0.994056</td>\n      <td>-0.976296</td>\n      <td>0.216440</td>\n      <td>0.978277</td>\n      <td>0.207302</td>\n      <td>1</td>\n      <td>7</td>\n      <td>0</td>\n      <td>4</td>\n    </tr>\n    <tr>\n      <th>36</th>\n      <td>5</td>\n      <td>1</td>\n      <td>2018-02-07 10:52:00</td>\n      <td>2/7/2018 11:23</td>\n      <td>0</td>\n      <td>-11.617391</td>\n      <td>5.182609</td>\n      <td>0.843478</td>\n      <td>-24.791304</td>\n      <td>-4.826087</td>\n      <td>...</td>\n      <td>0.043619</td>\n      <td>-0.999048</td>\n      <td>-0.996195</td>\n      <td>-0.087156</td>\n      <td>0.777930</td>\n      <td>0.628351</td>\n      <td>2</td>\n      <td>1</td>\n      <td>0</td>\n      <td>7</td>\n    </tr>\n  </tbody>\n</table>\n<p>5 rows × 116 columns</p>\n</div>"
     },
     "execution_count": 124,
     "metadata": {},
     "output_type": "execute_result"
    }
   ],
   "source": [
    "train_df, test_df, data_raw_list = load_data.load_alcohol()\n",
    "\n",
    "combined_data = []\n",
    "\n",
    "for i in range(len(train_df)):\n",
    "    train = train_df[i]\n",
    "    test = test_df[i]\n",
    "    # Combine both train and test sets since the initial split was 50/50\n",
    "    combined = pd.concat([train, test])\n",
    "    # Sort by date\n",
    "    combined['start'] = pd.to_datetime(combined['start'])\n",
    "    combined = combined.sort_values(by='start')\n",
    "    combined_data.append(combined)\n",
    "\n",
    "# Dataset with all individual's data\n",
    "global_data = pd.concat(combined_data, ignore_index=True)\n",
    "combined_data[0].head()"
   ],
   "metadata": {
    "collapsed": false,
    "pycharm": {
     "name": "#%%\n"
    }
   }
  },
  {
   "cell_type": "markdown",
   "source": [
    "## 1. Idiographic Models Regression"
   ],
   "metadata": {
    "collapsed": false,
    "pycharm": {
     "name": "#%% md\n"
    }
   }
  },
  {
   "cell_type": "code",
   "execution_count": 125,
   "outputs": [],
   "source": [
    "# Predict craving\n",
    "\n",
    "# Collect train and test sets as was done in the paper\n",
    "def prepare_date(idx, train_list, test_list):\n",
    "    # print('Patient ID:', train_list[idx]['ID'][0])\n",
    "    # print('Test Patient ID:', test_list[idx]['ID'][0])\n",
    "\n",
    "    X_train = train_list[idx].drop(train_list[idx].columns[range(0, 61)], axis=1).fillna(0)\n",
    "    y_train = train_list[idx]['craving']\n",
    "    X_test = test_list[idx].drop(test_list[idx].columns[range(0, 61)], axis=1).fillna(0)\n",
    "    y_test = test_list[idx]['craving']\n",
    "\n",
    "    return X_train, y_train, X_test, y_test\n",
    "\n",
    "\n",
    "def standardize(data):\n",
    "    local = data.copy()\n",
    "    for col in local.columns:\n",
    "        local[col] = (local[col] - local[col].mean()) / np.std(local[col])\n",
    "    return local\n",
    "\n",
    "\n",
    "def eval_results(actual, predicted, show):\n",
    "    r2 = metrics.r2_score(actual, predicted)\n",
    "    rmse = metrics.mean_squared_error(actual, predicted, squared=False)\n",
    "    mape = metrics.mean_absolute_percentage_error(actual, predicted)\n",
    "\n",
    "    if show:\n",
    "        print('R_squared:', r2)\n",
    "        print('MAPE:', mape)\n",
    "        print('RMSE:', rmse)\n",
    "        print('MAE:', metrics.mean_absolute_error(actual, predicted))\n",
    "        print('CORR:', np.corrcoef(predicted, actual)[0, 1])\n",
    "\n",
    "    return r2, rmse, mape\n"
   ],
   "metadata": {
    "collapsed": false,
    "pycharm": {
     "name": "#%%\n"
    }
   }
  },
  {
   "cell_type": "markdown",
   "source": [
    "### 1.1 Lasso Regression"
   ],
   "metadata": {
    "collapsed": false,
    "pycharm": {
     "name": "#%% md\n"
    }
   }
  },
  {
   "cell_type": "code",
   "execution_count": 126,
   "outputs": [
    {
     "name": "stdout",
     "output_type": "stream",
     "text": [
      "R_squared: 0.2336748819426997\n",
      "MAPE: 0.8602057458801604\n",
      "RMSE: 21.500863785473992\n",
      "MAE: 16.922922828939296\n",
      "CORR: 0.5125876082907408\n"
     ]
    },
    {
     "data": {
      "text/plain": "(0.2336748819426997, 21.500863785473992, 0.8602057458801604)"
     },
     "execution_count": 126,
     "metadata": {},
     "output_type": "execute_result"
    }
   ],
   "source": [
    "X_train, y_train, X_test, y_test = prepare_date(1, train_df, test_df)\n",
    "\n",
    "\n",
    "def lasso_reg(train_x, train_y, test_x, test_y, vis):\n",
    "    X_train_loc = standardize(train_x).fillna(0)\n",
    "    X_test_loc = standardize(test_x).fillna(0)\n",
    "    alphas = np.arange(0.01, 20, 0.05)\n",
    "    lasso = lm.LassoCV(alphas=alphas, cv=5, max_iter=100000, fit_intercept=True)\n",
    "    lasso.fit(X_train_loc, train_y)\n",
    "    y_predicted_test = lasso.predict(X_test_loc)\n",
    "\n",
    "    # print('--- Lasso Regression Results ---')\n",
    "    # print()\n",
    "    r2, rmse, mape = eval_results(actual=test_y, predicted=y_predicted_test, show=vis)\n",
    "\n",
    "    return r2, rmse, mape\n",
    "\n",
    "\n",
    "lasso_reg(X_train, y_train, X_test, y_test, True)"
   ],
   "metadata": {
    "collapsed": false,
    "pycharm": {
     "name": "#%%\n"
    }
   }
  },
  {
   "cell_type": "markdown",
   "source": [
    "### 1.2 Elastic-Net Regression"
   ],
   "metadata": {
    "collapsed": false,
    "pycharm": {
     "name": "#%% md\n"
    }
   }
  },
  {
   "cell_type": "code",
   "execution_count": 127,
   "outputs": [
    {
     "name": "stdout",
     "output_type": "stream",
     "text": [
      "R_squared: 0.3105248292112299\n",
      "MAPE: 0.868046768759073\n",
      "RMSE: 20.394294809977133\n",
      "MAE: 16.71060148405697\n",
      "CORR: 0.5610027960444378\n"
     ]
    },
    {
     "data": {
      "text/plain": "(0.3105248292112299, 20.394294809977133, 0.868046768759073)"
     },
     "execution_count": 127,
     "metadata": {},
     "output_type": "execute_result"
    }
   ],
   "source": [
    "def elastic_net(train_x, train_y, test_x, test_y, vis):\n",
    "    X_train_loc = standardize(train_x).fillna(0)\n",
    "    X_test_loc = standardize(test_x).fillna(0)\n",
    "\n",
    "    l1_ratios = np.arange(0.01, 0.6, 0.05)\n",
    "    elastic_reg = lm.ElasticNetCV(alphas=np.arange(0.01, 20, 0.05), l1_ratio=l1_ratios, cv=5, max_iter=100000,\n",
    "                                  fit_intercept=True)\n",
    "    elastic_reg.fit(X_train_loc, train_y)\n",
    "    y_predicted_test = elastic_reg.predict(X_test_loc)\n",
    "\n",
    "    # print('--- Elastic-Net Results ---')\n",
    "    # print()\n",
    "    r2, rmse, mape = eval_results(actual=test_y, predicted=y_predicted_test, show=vis)\n",
    "    return r2, rmse, mape\n",
    "\n",
    "\n",
    "elastic_net(X_train, y_train, X_test, y_test, True)"
   ],
   "metadata": {
    "collapsed": false,
    "pycharm": {
     "name": "#%%\n"
    }
   }
  },
  {
   "cell_type": "markdown",
   "source": [
    "### 1.3 Linear SVM Regression"
   ],
   "metadata": {
    "collapsed": false,
    "pycharm": {
     "name": "#%% md\n"
    }
   }
  },
  {
   "cell_type": "code",
   "execution_count": 128,
   "outputs": [
    {
     "name": "stdout",
     "output_type": "stream",
     "text": [
      "R_squared: 0.33566477371235304\n",
      "MAPE: 0.8316957957366325\n",
      "RMSE: 20.019029435528104\n",
      "MAE: 16.0883203798706\n",
      "CORR: 0.5836163446877473\n"
     ]
    },
    {
     "data": {
      "text/plain": "(0.33566477371235304, 20.019029435528104, 0.8316957957366325)"
     },
     "execution_count": 128,
     "metadata": {},
     "output_type": "execute_result"
    }
   ],
   "source": [
    "def linear_svm(train_x, train_y, test_x, test_y, vis):\n",
    "    X_train_loc = standardize(train_x).fillna(0)\n",
    "    X_test_loc = standardize(test_x).fillna(0)\n",
    "\n",
    "    params = [\n",
    "        {'C': np.arange(0.1, 4, 0.1),\n",
    "         'epsilon': np.arange(6, 7, 0.1),\n",
    "         'loss': ['epsilon_insensitive'],\n",
    "         'fit_intercept': [True],\n",
    "         'max_iter': [10000]}]\n",
    "\n",
    "    clf = GridSearchCV(estimator=LinearSVR(), param_grid=params, scoring='r2', cv=5)\n",
    "    clf.fit(X_train_loc, train_y)\n",
    "    # best_params = clf.best_params_\n",
    "    # print(best_params)\n",
    "    y_predicted_test = clf.predict(X_test_loc)\n",
    "\n",
    "    # print('--- Linear-SVM Results ---')\n",
    "    # print()\n",
    "    r2, rmse, mape = eval_results(actual=test_y, predicted=y_predicted_test, show=vis)\n",
    "    return r2, rmse, mape\n",
    "\n",
    "\n",
    "linear_svm(X_train, y_train, X_test, y_test, True)"
   ],
   "metadata": {
    "collapsed": false,
    "pycharm": {
     "name": "#%%\n"
    }
   }
  },
  {
   "cell_type": "markdown",
   "source": [
    "### 1.4 K-NN Regression"
   ],
   "metadata": {
    "collapsed": false,
    "pycharm": {
     "name": "#%% md\n"
    }
   }
  },
  {
   "cell_type": "code",
   "execution_count": 129,
   "outputs": [
    {
     "name": "stdout",
     "output_type": "stream",
     "text": [
      "R_squared: 0.14247416686246706\n",
      "MAPE: 1.0065771554001917\n",
      "RMSE: 22.744321386225067\n",
      "MAE: 17.094135426343126\n",
      "CORR: 0.49368573617049394\n"
     ]
    },
    {
     "data": {
      "text/plain": "(0.14247416686246706, 22.744321386225067, 1.0065771554001917)"
     },
     "execution_count": 129,
     "metadata": {},
     "output_type": "execute_result"
    }
   ],
   "source": [
    "def knn_reg(train_x, train_y, test_x, test_y, vis):\n",
    "    params = [\n",
    "        {'weights': ['uniform', 'distance'],\n",
    "         'n_neighbors': np.arange(2, 20, 1)}]\n",
    "\n",
    "    clf = GridSearchCV(estimator=KNeighborsRegressor(), param_grid=params, scoring='neg_mean_squared_error', cv=2)\n",
    "    clf.fit(train_x, train_y)\n",
    "    # best_params = clf.best_params_\n",
    "    # print(best_params)\n",
    "\n",
    "    y_predicted_test = clf.predict(test_x)\n",
    "\n",
    "    # print('--- kNN Regression Results ---')\n",
    "    # print()\n",
    "    r2, rmse, mape = eval_results(actual=test_y, predicted=y_predicted_test, show=vis)\n",
    "    return r2, rmse, mape\n",
    "\n",
    "\n",
    "knn_reg(X_train, y_train, X_test, y_test, True)"
   ],
   "metadata": {
    "collapsed": false,
    "pycharm": {
     "name": "#%%\n"
    }
   }
  },
  {
   "cell_type": "markdown",
   "source": [
    "### 1.5 XGBoost Regression"
   ],
   "metadata": {
    "collapsed": false,
    "pycharm": {
     "name": "#%% md\n"
    }
   }
  },
  {
   "cell_type": "code",
   "execution_count": 130,
   "outputs": [
    {
     "name": "stdout",
     "output_type": "stream",
     "text": [
      "R_squared: 0.20080951683368675\n",
      "MAPE: 0.9104222110254135\n",
      "RMSE: 21.957077219941247\n",
      "MAE: 17.98386691902223\n",
      "CORR: 0.4737318061836795\n"
     ]
    },
    {
     "data": {
      "text/plain": "(0.20080951683368675, 21.957077219941247, 0.9104222110254135)"
     },
     "execution_count": 130,
     "metadata": {},
     "output_type": "execute_result"
    }
   ],
   "source": [
    "def xgboost_reg(train_x, train_y, test_x, test_y, vis):\n",
    "    X_train_loc = standardize(train_x).fillna(0)\n",
    "    X_test_loc = standardize(test_x).fillna(0)\n",
    "\n",
    "    # Very simple models work better here, since there are few datapoints\n",
    "    params = [\n",
    "        {'objective': ['reg:squarederror'],\n",
    "         'n_estimators': np.arange(1, 7, 1),\n",
    "         'eval_metric': ['rmse'],\n",
    "         'max_depth': np.arange(1, 5, 1)}]\n",
    "\n",
    "    reg_xgb = GridSearchCV(xgb.XGBRegressor(), params, n_jobs=5, cv=2, scoring='neg_mean_squared_error')\n",
    "    reg_xgb.fit(X_train_loc, train_y)\n",
    "\n",
    "    y_predicted_test = reg_xgb.predict(X_test_loc)\n",
    "\n",
    "    # print('--- XGBoost Regression Results ---')\n",
    "    # print()\n",
    "    r2, rmse, mape = eval_results(actual=test_y, predicted=y_predicted_test, show=vis)\n",
    "    return r2, rmse, mape\n",
    "\n",
    "\n",
    "xgboost_reg(X_train, y_train, X_test, y_test, True)"
   ],
   "metadata": {
    "collapsed": false,
    "pycharm": {
     "name": "#%%\n"
    }
   }
  },
  {
   "cell_type": "markdown",
   "source": [
    "### 1.6 LSTM RNN"
   ],
   "metadata": {
    "collapsed": false,
    "pycharm": {
     "name": "#%% md\n"
    }
   }
  },
  {
   "cell_type": "code",
   "execution_count": 131,
   "outputs": [
    {
     "name": "stdout",
     "output_type": "stream",
     "text": [
      "R_squared: 0.09584351523480139\n",
      "MAPE: 0.87308301904732\n",
      "RMSE: 23.35453249726223\n",
      "MAE: 20.55813424034648\n",
      "CORR: 0.5087180963796669\n"
     ]
    },
    {
     "data": {
      "text/plain": "(0.09584351523480139, 23.35453249726223, 0.87308301904732)"
     },
     "execution_count": 131,
     "metadata": {},
     "output_type": "execute_result"
    }
   ],
   "source": [
    "import keras.layers\n",
    "from keras.models import Sequential\n",
    "\n",
    "\n",
    "def lstm_rnn(train_x, train_y, test_x, test_y, vis):\n",
    "    X_train_loc = standardize(train_x).fillna(0)\n",
    "    X_test_loc = standardize(test_x).fillna(0)\n",
    "    train_x_val, train_y_val, test_x_val, test_y_val = X_train_loc.values, train_y.values, X_test_loc.values, test_y.values\n",
    "\n",
    "    train_x_val = train_x_val.reshape((train_x_val.shape[0], 1, train_x_val.shape[1]))\n",
    "    test_x_val = test_x_val.reshape((test_x_val.shape[0], 1, test_x_val.shape[1]))\n",
    "\n",
    "    # print(train_x_val.shape)\n",
    "    # print(test_x_val.shape)\n",
    "\n",
    "    model = Sequential([\n",
    "        keras.layers.LSTM(100, return_sequences=True, input_shape=(train_x_val.shape[1], train_x_val.shape[2])),\n",
    "        keras.layers.Dropout(0.25),\n",
    "        keras.layers.LSTM(units=50, return_sequences=True),\n",
    "        keras.layers.Dropout(0.20),\n",
    "        keras.layers.LSTM(units=10, return_sequences=False),\n",
    "        keras.layers.Dense(units=1, activation='linear'),\n",
    "    ])\n",
    "    model.compile(loss='mae', optimizer='adam')\n",
    "    model.fit(train_x_val, train_y_val, epochs=20, batch_size=4, verbose=0, shuffle=False)\n",
    "\n",
    "    y_predicted_test = model.predict(test_x_val)\n",
    "\n",
    "    r2, rmse, mape = eval_results(actual=test_y, predicted=y_predicted_test.flatten(), show=vis)\n",
    "    return r2, rmse, mape\n",
    "\n",
    "\n",
    "lstm_rnn(X_train, y_train, X_test, y_test, True)"
   ],
   "metadata": {
    "collapsed": false,
    "pycharm": {
     "name": "#%%\n"
    }
   }
  },
  {
   "cell_type": "markdown",
   "source": [
    "### 1.7 MTGNN"
   ],
   "metadata": {
    "collapsed": false,
    "pycharm": {
     "name": "#%% md\n"
    }
   }
  },
  {
   "cell_type": "code",
   "execution_count": 132,
   "outputs": [],
   "source": [
    "import torch\n",
    "import torch.nn.functional as f\n",
    "from torch_geometric_temporal.nn.recurrent.gconv_gru import GConvGRU\n",
    "\n",
    "\n",
    "class RecurrentGCN(torch.nn.Module):\n",
    "    def __init__(self, node_features, filters):\n",
    "        super(RecurrentGCN, self).__init__()\n",
    "        self.recurrent = GConvGRU(node_features, filters, 2)\n",
    "        self.linear = torch.nn.Linear(filters, 1)\n",
    "\n",
    "    def forward(self, x, edge_index, edge_weight):\n",
    "        h = self.recurrent(x, edge_index, edge_weight)\n",
    "        h = f.relu(h)\n",
    "        h = self.linear(h)\n",
    "        return h"
   ],
   "metadata": {
    "collapsed": false,
    "pycharm": {
     "name": "#%%\n"
    }
   }
  },
  {
   "cell_type": "markdown",
   "source": [
    "### 1.8 Evaluating Performance on Entire Dataset"
   ],
   "metadata": {
    "collapsed": false,
    "pycharm": {
     "name": "#%% md\n"
    }
   }
  },
  {
   "cell_type": "code",
   "execution_count": 133,
   "outputs": [
    {
     "name": "stdout",
     "output_type": "stream",
     "text": [
      "---- Lasso Regression Results ----\n",
      "Average R_Squared: 0.1770519351340509\n",
      "Average RMSE: 14.717961396686716\n",
      "Average MAPE: 1.5472097567998122\n",
      "---------------------------------\n",
      "---- Elastic-Net Results ----\n",
      "Average R_Squared: 0.194006559997254\n",
      "Average RMSE: 14.771363649360774\n",
      "Average MAPE: 1.4156218369947697\n",
      "---------------------------------\n",
      "---- Linear SVM Results ----\n",
      "Average R_Squared: 0.19154004883268966\n",
      "Average RMSE: 14.379987420524362\n",
      "Average MAPE: 1.2751523312386748\n",
      "---------------------------------\n",
      "---- kNN Regression Results ----\n",
      "Average R_Squared: 0.11997494708105814\n",
      "Average RMSE: 15.304156621838958\n",
      "Average MAPE: 1.6650125231400603\n",
      "---------------------------------\n",
      "---- XGBoost Results ----\n",
      "Average R_Squared: 0.14795224822377198\n",
      "Average RMSE: 14.881679646669673\n",
      "Average MAPE: 1.3614428861104988\n",
      "---------------------------------\n",
      "---- LSTM Results ----\n",
      "Average R_Squared: 0.06194978968437973\n",
      "Average RMSE: 15.585706069905084\n",
      "Average MAPE: 1.1325966887492784\n",
      "---------------------------------\n",
      "Included patient list:\n",
      "[1, 2, 3, 4, 5, 6, 7, 8, 9, 10, 12, 14, 15, 16, 17, 18, 19, 20, 21, 22, 23, 24, 25, 26, 27, 29, 30, 32]\n"
     ]
    }
   ],
   "source": [
    "import warnings\n",
    "\n",
    "\n",
    "def average_metrics(r2_list, rmse_list, mape_list):\n",
    "    print('Average R_Squared:', np.mean(r2_list))\n",
    "    print('Average RMSE:', np.mean(rmse_list))\n",
    "    print('Average MAPE:', np.mean(mape_list))\n",
    "\n",
    "\n",
    "def evaluate_models(train_list, test_list):\n",
    "    assert len(train_list) == len(test_list)\n",
    "    r2_lasso, r2_elastic, r2_svm, r2_knn, r2_xgb, r2_lstm, r2_mtgnn = ([] for _ in range(7))\n",
    "    rmse_lasso, rmse_elastic, rmse_svm, rmse_knn, rmse_xgb, rmse_lstm, rmse_mtgnn = ([] for _ in range(7))\n",
    "    mape_lasso, mape_elastic, mape_svm, mape_knn, mape_xgb, mape_lstm, mape_mtgnn = ([] for _ in range(7))\n",
    "\n",
    "    patient_ids = []\n",
    "\n",
    "    for x in range(len(train_list)):\n",
    "        # Build and evaluate a model for every single patient\n",
    "        train_x, train_y, test_x, test_y = prepare_date(x, train_list, test_list)\n",
    "        # Elastic-Net (baseline)\n",
    "        r2, rmse, mape = elastic_net(train_x, train_y, test_x, test_y,\n",
    "                                     False)  # only continue with other models if this one can get a positive r2\n",
    "\n",
    "        # Elastic-Net metrics\n",
    "        patient_ids.append(train_list[x]['ID'][0])\n",
    "        r2_elastic.append(max(0, r2))\n",
    "        rmse_elastic.append(rmse)\n",
    "        mape_elastic.append(mape)\n",
    "\n",
    "        # Lasso Regression\n",
    "        r2, rmse, mape = lasso_reg(train_x, train_y, test_x, test_y, False)\n",
    "        # Lasso metrics\n",
    "        r2_lasso.append(max(0, r2))\n",
    "        rmse_lasso.append(rmse)\n",
    "        mape_lasso.append(mape)\n",
    "\n",
    "        # Linear-SVM\n",
    "        r2, rmse, mape = linear_svm(train_x, train_y, test_x, test_y, False)\n",
    "        # Linear-SVM metrics\n",
    "        r2_svm.append(max(0, r2))\n",
    "        rmse_svm.append(rmse)\n",
    "        mape_svm.append(mape)\n",
    "\n",
    "        # kNN Regression\n",
    "        r2, rmse, mape = knn_reg(train_x, train_y, test_x, test_y, False)\n",
    "        # kNN metrics\n",
    "        r2_knn.append(max(0, r2))\n",
    "        rmse_knn.append(rmse)\n",
    "        mape_knn.append(mape)\n",
    "\n",
    "        # XGBoost Regression\n",
    "        r2, rmse, mape = xgboost_reg(train_x, train_y, test_x, test_y, False)\n",
    "        # XGBoost metrics\n",
    "        r2_xgb.append(max(0, r2))\n",
    "        rmse_xgb.append(rmse)\n",
    "        mape_xgb.append(mape)\n",
    "\n",
    "        # LSTM RNN\n",
    "        r2, rmse, mape = lstm_rnn(train_x, train_y, test_x, test_y, False)\n",
    "        # LSTM metrics\n",
    "        r2_lstm.append(max(0, r2))\n",
    "        rmse_lstm.append(rmse)\n",
    "        mape_lstm.append(mape)\n",
    "\n",
    "    print('---- Lasso Regression Results ----')\n",
    "    average_metrics(r2_lasso, rmse_lasso, mape_lasso)\n",
    "    print('---------------------------------')\n",
    "    print('---- Elastic-Net Results ----')\n",
    "    average_metrics(r2_elastic, rmse_elastic, mape_elastic)\n",
    "    print('---------------------------------')\n",
    "    print('---- Linear SVM Results ----')\n",
    "    average_metrics(r2_svm, rmse_svm, mape_svm)\n",
    "    print('---------------------------------')\n",
    "    print('---- kNN Regression Results ----')\n",
    "    average_metrics(r2_knn, rmse_knn, mape_knn)\n",
    "    print('---------------------------------')\n",
    "    print('---- XGBoost Results ----')\n",
    "    average_metrics(r2_xgb, rmse_xgb, mape_xgb)\n",
    "    print('---------------------------------')\n",
    "    print('---- LSTM Results ----')\n",
    "    average_metrics(r2_lstm, rmse_lstm, mape_lstm)\n",
    "    print('---------------------------------')\n",
    "\n",
    "    print('Included patient list:')\n",
    "    print(patient_ids)\n",
    "\n",
    "\n",
    "warnings.filterwarnings(\"ignore\")\n",
    "evaluate_models(train_df, test_df)"
   ],
   "metadata": {
    "collapsed": false,
    "pycharm": {
     "name": "#%%\n"
    }
   }
  },
  {
   "cell_type": "markdown",
   "source": [
    "# 2. Nomothetic Models Regression"
   ],
   "metadata": {
    "collapsed": false,
    "pycharm": {
     "name": "#%% md\n"
    }
   }
  },
  {
   "cell_type": "code",
   "execution_count": 134,
   "outputs": [
    {
     "name": "stdout",
     "output_type": "stream",
     "text": [
      "<class 'pandas.core.frame.DataFrame'>\n",
      "RangeIndex: 1326 entries, 0 to 1325\n",
      "Data columns (total 57 columns):\n",
      " #   Column              Non-Null Count  Dtype  \n",
      "---  ------              --------------  -----  \n",
      " 0   drinks.1            1326 non-null   int64  \n",
      " 1   comfortable.1       1326 non-null   float64\n",
      " 2   stressed.1          1326 non-null   float64\n",
      " 3   down.1              1326 non-null   float64\n",
      " 4   calm.1              1326 non-null   float64\n",
      " 5   pressure.1          1326 non-null   float64\n",
      " 6   enthusiastic.1      1326 non-null   float64\n",
      " 7   happy.1             1326 non-null   float64\n",
      " 8   conflict.1          1326 non-null   float64\n",
      " 9   craving.1           1326 non-null   float64\n",
      " 10  impulsive.1         1326 non-null   float64\n",
      " 11  posexpect.1         1326 non-null   float64\n",
      " 12  peerpercent.1       1326 non-null   float64\n",
      " 13  wantdrink.1         1326 non-null   float64\n",
      " 14  delay_grat.1        1326 non-null   float64\n",
      " 15  angry.1             1326 non-null   float64\n",
      " 16  drinkpredict.1      1326 non-null   float64\n",
      " 17  restless_sleep.1    1326 non-null   float64\n",
      " 18  difficulty_sleep.1  1326 non-null   float64\n",
      " 19  hours_sleep.1       1326 non-null   float64\n",
      " 20  lag.1               1326 non-null   float64\n",
      " 21  tdif.1              1326 non-null   float64\n",
      " 22  cumsumT.1           1326 non-null   float64\n",
      " 23  drinkbin.1          1326 non-null   int64  \n",
      " 24  drinkH.1            1326 non-null   int64  \n",
      " 25  day.1               1326 non-null   int64  \n",
      " 26  mon.1               1326 non-null   int64  \n",
      " 27  tues.1              1326 non-null   int64  \n",
      " 28  wed.1               1326 non-null   int64  \n",
      " 29  thur.1              1326 non-null   int64  \n",
      " 30  fri.1               1326 non-null   int64  \n",
      " 31  sat.1               1326 non-null   int64  \n",
      " 32  sun.1               1326 non-null   int64  \n",
      " 33  ping.1              1326 non-null   int64  \n",
      " 34  ping1.1             1326 non-null   int64  \n",
      " 35  ping2.1             1326 non-null   int64  \n",
      " 36  ping3.1             1326 non-null   int64  \n",
      " 37  ping4.1             1326 non-null   int64  \n",
      " 38  ping5.1             1326 non-null   int64  \n",
      " 39  ping6.1             1326 non-null   int64  \n",
      " 40  ping7.1             1326 non-null   int64  \n",
      " 41  ping8.1             1326 non-null   int64  \n",
      " 42  linear.1            1326 non-null   float64\n",
      " 43  quad.1              1326 non-null   float64\n",
      " 44  cub.1               1326 non-null   float64\n",
      " 45  cosT.1              1326 non-null   float64\n",
      " 46  sinT.1              1326 non-null   float64\n",
      " 47  cos2T.1             1326 non-null   float64\n",
      " 48  sin2T.1             1326 non-null   float64\n",
      " 49  cosW.1              1326 non-null   float64\n",
      " 50  sinW.1              1326 non-null   float64\n",
      " 51  dayvar.1            1326 non-null   int64  \n",
      " 52  beepvar.1           1326 non-null   int64  \n",
      " 53  filter.1            1326 non-null   int64  \n",
      " 54  consec.1            1326 non-null   int64  \n",
      " 55  NA.                 1326 non-null   float64\n",
      " 56  NA..1               1326 non-null   float64\n",
      "dtypes: float64(33), int64(24)\n",
      "memory usage: 590.6 KB\n"
     ]
    }
   ],
   "source": [
    "# Reading in the train data\n",
    "train_global = pd.read_csv('data/alcohol_data/global (mean-centered)/n.train.csv')\n",
    "train_global_x = train_global.drop(train_global.columns[range(0, 60)], axis=1).fillna(0)\n",
    "train_global_y = train_global['craving']\n",
    "\n",
    "train_global_x.info()"
   ],
   "metadata": {
    "collapsed": false,
    "pycharm": {
     "name": "#%%\n"
    }
   }
  },
  {
   "cell_type": "code",
   "execution_count": 135,
   "outputs": [
    {
     "data": {
      "text/plain": "     drinks.1  comfortable.1  stressed.1     down.1    calm.1  pressure.1  \\\n473         0      32.144068   -37.20339 -28.686441   8.09322   -2.771186   \n474         1      21.144068   -37.20339 -25.686441 -27.90678   -2.771186   \n475         2      32.144068   -37.20339 -27.686441  34.09322   -2.771186   \n476         3      32.144068   -35.20339 -25.686441  45.09322   -2.771186   \n477         0      32.144068   -37.20339 -26.686441  22.09322   -0.771186   \n\n     enthusiastic.1    happy.1  conflict.1  craving.1  ...   cos2T.1  \\\n473       44.084746  16.728814   -9.542373 -21.728814  ...  1.000000   \n474       20.084746  25.728814   -9.542373 -21.728814  ...  0.484810   \n475       35.084746  35.728814   -9.542373  28.271186  ... -0.190809   \n476       23.084746  35.728814   -8.542373 -21.728814  ... -0.987688   \n477      -40.915254  -5.271186   56.457627 -21.728814  ... -0.920505   \n\n      sin2T.1    cosW.1    sinW.1  dayvar.1  beepvar.1  filter.1  consec.1  \\\n473  0.000000  1.000000  0.000000         1          4         0         1   \n474 -0.874620  0.681086  0.732203         2          3         0         9   \n475  0.981627  0.520371  0.853940         2          6         0        12   \n476  0.156435  0.443965  0.896044         2          7         0        13   \n477  0.390731  0.028669  0.999589         3          1         0        16   \n\n     NA.  NA..1  \n473  0.0    0.0  \n474  0.0    0.0  \n475  0.0    0.0  \n476  0.0    0.0  \n477  0.0    0.0  \n\n[5 rows x 57 columns]",
      "text/html": "<div>\n<style scoped>\n    .dataframe tbody tr th:only-of-type {\n        vertical-align: middle;\n    }\n\n    .dataframe tbody tr th {\n        vertical-align: top;\n    }\n\n    .dataframe thead th {\n        text-align: right;\n    }\n</style>\n<table border=\"1\" class=\"dataframe\">\n  <thead>\n    <tr style=\"text-align: right;\">\n      <th></th>\n      <th>drinks.1</th>\n      <th>comfortable.1</th>\n      <th>stressed.1</th>\n      <th>down.1</th>\n      <th>calm.1</th>\n      <th>pressure.1</th>\n      <th>enthusiastic.1</th>\n      <th>happy.1</th>\n      <th>conflict.1</th>\n      <th>craving.1</th>\n      <th>...</th>\n      <th>cos2T.1</th>\n      <th>sin2T.1</th>\n      <th>cosW.1</th>\n      <th>sinW.1</th>\n      <th>dayvar.1</th>\n      <th>beepvar.1</th>\n      <th>filter.1</th>\n      <th>consec.1</th>\n      <th>NA.</th>\n      <th>NA..1</th>\n    </tr>\n  </thead>\n  <tbody>\n    <tr>\n      <th>473</th>\n      <td>0</td>\n      <td>32.144068</td>\n      <td>-37.20339</td>\n      <td>-28.686441</td>\n      <td>8.09322</td>\n      <td>-2.771186</td>\n      <td>44.084746</td>\n      <td>16.728814</td>\n      <td>-9.542373</td>\n      <td>-21.728814</td>\n      <td>...</td>\n      <td>1.000000</td>\n      <td>0.000000</td>\n      <td>1.000000</td>\n      <td>0.000000</td>\n      <td>1</td>\n      <td>4</td>\n      <td>0</td>\n      <td>1</td>\n      <td>0.0</td>\n      <td>0.0</td>\n    </tr>\n    <tr>\n      <th>474</th>\n      <td>1</td>\n      <td>21.144068</td>\n      <td>-37.20339</td>\n      <td>-25.686441</td>\n      <td>-27.90678</td>\n      <td>-2.771186</td>\n      <td>20.084746</td>\n      <td>25.728814</td>\n      <td>-9.542373</td>\n      <td>-21.728814</td>\n      <td>...</td>\n      <td>0.484810</td>\n      <td>-0.874620</td>\n      <td>0.681086</td>\n      <td>0.732203</td>\n      <td>2</td>\n      <td>3</td>\n      <td>0</td>\n      <td>9</td>\n      <td>0.0</td>\n      <td>0.0</td>\n    </tr>\n    <tr>\n      <th>475</th>\n      <td>2</td>\n      <td>32.144068</td>\n      <td>-37.20339</td>\n      <td>-27.686441</td>\n      <td>34.09322</td>\n      <td>-2.771186</td>\n      <td>35.084746</td>\n      <td>35.728814</td>\n      <td>-9.542373</td>\n      <td>28.271186</td>\n      <td>...</td>\n      <td>-0.190809</td>\n      <td>0.981627</td>\n      <td>0.520371</td>\n      <td>0.853940</td>\n      <td>2</td>\n      <td>6</td>\n      <td>0</td>\n      <td>12</td>\n      <td>0.0</td>\n      <td>0.0</td>\n    </tr>\n    <tr>\n      <th>476</th>\n      <td>3</td>\n      <td>32.144068</td>\n      <td>-35.20339</td>\n      <td>-25.686441</td>\n      <td>45.09322</td>\n      <td>-2.771186</td>\n      <td>23.084746</td>\n      <td>35.728814</td>\n      <td>-8.542373</td>\n      <td>-21.728814</td>\n      <td>...</td>\n      <td>-0.987688</td>\n      <td>0.156435</td>\n      <td>0.443965</td>\n      <td>0.896044</td>\n      <td>2</td>\n      <td>7</td>\n      <td>0</td>\n      <td>13</td>\n      <td>0.0</td>\n      <td>0.0</td>\n    </tr>\n    <tr>\n      <th>477</th>\n      <td>0</td>\n      <td>32.144068</td>\n      <td>-37.20339</td>\n      <td>-26.686441</td>\n      <td>22.09322</td>\n      <td>-0.771186</td>\n      <td>-40.915254</td>\n      <td>-5.271186</td>\n      <td>56.457627</td>\n      <td>-21.728814</td>\n      <td>...</td>\n      <td>-0.920505</td>\n      <td>0.390731</td>\n      <td>0.028669</td>\n      <td>0.999589</td>\n      <td>3</td>\n      <td>1</td>\n      <td>0</td>\n      <td>16</td>\n      <td>0.0</td>\n      <td>0.0</td>\n    </tr>\n  </tbody>\n</table>\n<p>5 rows × 57 columns</p>\n</div>"
     },
     "execution_count": 135,
     "metadata": {},
     "output_type": "execute_result"
    }
   ],
   "source": [
    "# Reading in the test data\n",
    "test_global = pd.read_csv('data/alcohol_data/global (mean-centered)/n.test.csv')\n",
    "X_test_list = []\n",
    "y_test_list = []\n",
    "unique_ids = np.unique(test_global['ID'])\n",
    "for i in range(len(unique_ids)):\n",
    "    individual = test_global.loc[test_global['ID'] == unique_ids[i]]\n",
    "    X_test_list.append(individual.drop(individual.columns[range(0, 60)], axis=1).fillna(0))\n",
    "    y_test_list.append(individual['craving'])\n",
    "\n",
    "X_test_list[10].head()"
   ],
   "metadata": {
    "collapsed": false,
    "pycharm": {
     "name": "#%%\n"
    }
   }
  },
  {
   "cell_type": "code",
   "execution_count": 135,
   "outputs": [],
   "source": [],
   "metadata": {
    "collapsed": false,
    "pycharm": {
     "name": "#%%\n"
    }
   }
  }
 ],
 "metadata": {
  "kernelspec": {
   "display_name": "Python 3",
   "language": "python",
   "name": "python3"
  },
  "language_info": {
   "codemirror_mode": {
    "name": "ipython",
    "version": 2
   },
   "file_extension": ".py",
   "mimetype": "text/x-python",
   "name": "python",
   "nbconvert_exporter": "python",
   "pygments_lexer": "ipython2",
   "version": "2.7.6"
  }
 },
 "nbformat": 4,
 "nbformat_minor": 0
}