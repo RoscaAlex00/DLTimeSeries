{
 "cells": [
  {
   "cell_type": "markdown",
   "metadata": {
    "collapsed": true,
    "pycharm": {
     "name": "#%% md\n"
    }
   },
   "source": [
    " # 1-step Forecasting with linear and non-linear models (Nomothetic)"
   ]
  },
  {
   "cell_type": "code",
   "execution_count": 1,
   "outputs": [],
   "source": [
    "# Import the necessary libraries\n",
    "import pandas as pd\n",
    "import numpy as np\n",
    "%matplotlib inline\n",
    "import matplotlib.pyplot as plt\n",
    "import seaborn as sns\n",
    "from sklearn.svm import LinearSVR\n",
    "from sklearn.model_selection import GridSearchCV\n",
    "import xgboost as xgb\n",
    "from sklearn import linear_model as lm\n",
    "from sklearn.model_selection import TimeSeriesSplit\n",
    "\n",
    "\n",
    "import utils\n",
    "\n",
    "# Plot settings\n",
    "plt.rcParams['figure.figsize'] = (16, 8)\n",
    "plt.rcParams['figure.dpi'] = 150\n",
    "sns.set()"
   ],
   "metadata": {
    "collapsed": false,
    "pycharm": {
     "name": "#%%\n"
    }
   }
  },
  {
   "cell_type": "code",
   "execution_count": 15,
   "outputs": [],
   "source": [
    "# Reading alcohol data\n",
    "train_df, test_df, data_raw_list = utils.load_alcohol()\n",
    "\n",
    "\n",
    "# Create one big dataset that contains the information of all participants, and split into dependent/independent features\n",
    "# train_alcohol = pd.concat(train_df, ignore_index=True)\n",
    "combined_data = []\n",
    "\n",
    "for i in range(len(train_df)):\n",
    "    train = train_df[i]\n",
    "    test = test_df[i]\n",
    "    # Combine both train and test sets since the initial split was 50/50\n",
    "    combined = pd.concat([train, test])\n",
    "    # Sort by date\n",
    "    combined['start'] = pd.to_datetime(combined['start'])\n",
    "    combined = combined.sort_values(by='start')\n",
    "    combined_data.append(combined)\n",
    "\n",
    "train_df_temporal = []\n",
    "test_df_temporal = []\n",
    "# Create temporal 70/30 splits for alcohol dataset\n",
    "for i in range(len(combined_data)):\n",
    "    test_size = int(0.3 * len(combined_data[i]))\n",
    "    test_df_temporal.append(combined_data[i].iloc[-test_size:])\n",
    "    train_df_temporal.append(combined_data[i].iloc[:-test_size])\n",
    "\n",
    "train_alcohol = pd.concat(train_df_temporal, ignore_index=True)\n",
    "train_alcohol_X = train_alcohol.drop(train_alcohol.columns[range(0, 61)], axis=1).fillna(0)\n",
    "train_alcohol_y = train_alcohol['craving']\n",
    "\n",
    "\n",
    "# Function to split the test sets into dependent/independent features, since they are taken per individual\n",
    "def prepare_data(idx, test_list):\n",
    "    # print('Patient ID:', test_list[idx]['ID'][0])\n",
    "    X_test = test_list[idx].drop(test_list[idx].columns[range(0, 61)], axis=1).fillna(0)\n",
    "    y_test = test_list[idx]['craving']\n",
    "    return X_test, y_test\n"
   ],
   "metadata": {
    "collapsed": false,
    "pycharm": {
     "name": "#%%\n"
    }
   }
  },
  {
   "cell_type": "code",
   "execution_count": 3,
   "outputs": [
    {
     "name": "stdout",
     "output_type": "stream",
     "text": [
      "55\n",
      "Patient included in study:\n",
      "[1, 2, 3, 4, 5, 6, 8, 9, 10, 11, 14, 15, 16, 17, 21, 23, 24, 25, 26, 27, 28, 30, 31, 32, 33, 34, 35, 36, 37, 38, 39, 41, 42, 43, 46, 48, 49, 50, 52, 53, 54, 55, 58, 59, 63, 64, 65, 66, 68, 70, 71, 72, 74, 75, 77]\n"
     ]
    }
   ],
   "source": [
    "# Loading train and test data of covid patients\n",
    "covid_train_x_list, covid_test_x_list, covid_train_y_list, covid_test_y_list = utils.patients_covid()\n",
    "\n",
    "# Concatenate the train set for the global models\n",
    "covid_train_X = pd.concat(covid_train_x_list, ignore_index=True)\n",
    "covid_train_y = pd.concat(covid_train_y_list, ignore_index=True)"
   ],
   "metadata": {
    "collapsed": false,
    "pycharm": {
     "name": "#%%\n"
    }
   }
  },
  {
   "cell_type": "markdown",
   "source": [
    "# 1. Nomothetic Models Regression"
   ],
   "metadata": {
    "collapsed": false,
    "pycharm": {
     "name": "#%% md\n"
    }
   }
  },
  {
   "cell_type": "code",
   "execution_count": 4,
   "outputs": [
    {
     "name": "stdout",
     "output_type": "stream",
     "text": [
      "--- Alcohol Data ---\n",
      "Trained\n",
      "--- Covid Data ---\n",
      "Trained\n"
     ]
    }
   ],
   "source": [
    "\n",
    "\n",
    "# Elastic-Net\n",
    "\n",
    "def elastic_net(train_x, train_y):\n",
    "    # Standardize variables (mean 0, std 1)\n",
    "    X_train_loc = utils.standardize(train_x).fillna(0)\n",
    "\n",
    "    # Train Elastic Net model with 5-fold cross-validation\n",
    "    grid = {'alpha': np.arange(0.01, 10, 0.05),\n",
    "        'l1_ratio': np.arange(0.01, 0.7, 0.05),\n",
    "        'fit_intercept': [True],\n",
    "        'max_iter': [10000]}\n",
    "    # Train model with 5-fold cross-validation\n",
    "    elastic_reg = GridSearchCV(estimator=lm.ElasticNet(), param_grid=grid, scoring='neg_mean_squared_error',\n",
    "                           cv=TimeSeriesSplit(n_splits=5), n_jobs=5)\n",
    "    elastic_reg.fit(X_train_loc, train_y)\n",
    "\n",
    "    return elastic_reg\n",
    "\n",
    "\n",
    "# Generate a model for both datasets, that will later be used for testing\n",
    "print('--- Alcohol Data ---')\n",
    "test_alcohol_X, test_alcohol_y = prepare_data(1, test_df_temporal)\n",
    "elastic_alcohol = elastic_net(train_alcohol_X, train_alcohol_y)\n",
    "print('Trained')\n",
    "print('--- Covid Data ---')\n",
    "elastic_covid = elastic_net(covid_train_X, covid_train_y)\n",
    "print('Trained')"
   ],
   "metadata": {
    "collapsed": false,
    "pycharm": {
     "name": "#%%\n"
    }
   }
  },
  {
   "cell_type": "code",
   "execution_count": 5,
   "outputs": [
    {
     "name": "stdout",
     "output_type": "stream",
     "text": [
      "--- Alcohol Data ---\n",
      "{'C': 0.1, 'epsilon': 6.899999999999997, 'fit_intercept': True, 'loss': 'epsilon_insensitive', 'max_iter': 10000}\n",
      "Trained\n",
      "--- Covid Data ---\n"
     ]
    },
    {
     "name": "stderr",
     "output_type": "stream",
     "text": [
      "C:\\Users\\Alex\\AppData\\Local\\Programs\\Python\\Python38\\lib\\site-packages\\sklearn\\svm\\_base.py:1206: ConvergenceWarning: Liblinear failed to converge, increase the number of iterations.\n",
      "  warnings.warn(\n",
      "C:\\Users\\Alex\\AppData\\Local\\Programs\\Python\\Python38\\lib\\site-packages\\sklearn\\svm\\_base.py:1206: ConvergenceWarning: Liblinear failed to converge, increase the number of iterations.\n",
      "  warnings.warn(\n",
      "C:\\Users\\Alex\\AppData\\Local\\Programs\\Python\\Python38\\lib\\site-packages\\sklearn\\svm\\_base.py:1206: ConvergenceWarning: Liblinear failed to converge, increase the number of iterations.\n",
      "  warnings.warn(\n"
     ]
    },
    {
     "name": "stdout",
     "output_type": "stream",
     "text": [
      "{'C': 1.1, 'epsilon': 0.4, 'fit_intercept': True, 'loss': 'epsilon_insensitive', 'max_iter': 10000}\n",
      "Trained\n"
     ]
    }
   ],
   "source": [
    "# Linear-SVM\n",
    "\n",
    "def linear_svm(train_x, train_y, params):\n",
    "    # Standardize\n",
    "    X_train_loc = utils.standardize(train_x).fillna(0)\n",
    "\n",
    "    # Train a SVM with a linear kernel, 5-fold cross validation, also optimizing the hyperparameters from the provided 'params' variable\n",
    "    clf = GridSearchCV(estimator=LinearSVR(), param_grid=params, scoring='neg_mean_squared_error', cv=TimeSeriesSplit(n_splits=5))\n",
    "    clf.fit(X_train_loc, train_y)\n",
    "    print(clf.best_params_)\n",
    "\n",
    "    return clf\n",
    "\n",
    "\n",
    "# Train model for the two datasets\n",
    "print('--- Alcohol Data ---')\n",
    "# Hyperparameter grid for 'Alcohol' dataset\n",
    "param = [\n",
    "    {'C': np.arange(0.1, 4, 0.1),\n",
    "     'epsilon': np.arange(6, 7, 0.1),\n",
    "     'loss': ['epsilon_insensitive'],\n",
    "     'fit_intercept': [True],\n",
    "     'max_iter': [10000]}]\n",
    "\n",
    "svm_alcohol = linear_svm(train_alcohol_X, train_alcohol_y, param)\n",
    "print('Trained')\n",
    "print('--- Covid Data ---')\n",
    "# Hyperparameter grid for COVID-19 dataset\n",
    "param = [\n",
    "    {'C': np.arange(0.1, 2, 0.1),\n",
    "     'epsilon': np.arange(0, 0.5, 0.1),\n",
    "     'loss': ['epsilon_insensitive'],\n",
    "     'fit_intercept': [True],\n",
    "     'max_iter': [10000]}]\n",
    "svm_covid = linear_svm(covid_train_X, covid_train_y, param)\n",
    "print('Trained')"
   ],
   "metadata": {
    "collapsed": false,
    "pycharm": {
     "name": "#%%\n"
    }
   }
  },
  {
   "cell_type": "code",
   "execution_count": 6,
   "outputs": [
    {
     "name": "stdout",
     "output_type": "stream",
     "text": [
      "--- Alcohol Data ---\n",
      "{'alpha': 0.0, 'booster': 'gbtree', 'colsample_bytree': 0.5, 'eta': 0.1, 'eval_metric': 'rmse', 'max_depth': 1, 'n_estimators': 60, 'objective': 'reg:squarederror'}\n",
      "Trained\n",
      "--- Covid Data ---\n",
      "{'alpha': 0.8, 'booster': 'gbtree', 'colsample_bytree': 0.5, 'eta': 0.2, 'eval_metric': 'rmse', 'max_depth': 2, 'n_estimators': 25, 'objective': 'reg:squarederror'}\n",
      "Trained\n"
     ]
    }
   ],
   "source": [
    "# XGBoost\n",
    "\n",
    "def xgboost_reg(train_x, train_y):\n",
    "    # Hyperparameter grid\n",
    "    params = [\n",
    "        {'objective': ['reg:squarederror'],\n",
    "         'n_estimators': [10, 15, 20, 25, 30, 45, 60, 70],\n",
    "         'booster': ['gbtree'],\n",
    "         'eta': [0.05, 0.1, 0.2, 0.3],\n",
    "         'alpha': np.arange(0, 1, 0.1),\n",
    "         'colsample_bytree': [0.5, 0.75, 0.9, 1],\n",
    "         'eval_metric': ['rmse'],\n",
    "         'max_depth': np.arange(1, 8, 1)}]\n",
    "\n",
    "    # Train a XGBoost model with 5-fold cross-validation\n",
    "    reg_xgb = GridSearchCV(xgb.XGBRegressor(), params, cv=TimeSeriesSplit(n_splits=5), n_jobs=5, scoring='neg_mean_squared_error')\n",
    "    reg_xgb.fit(train_x, train_y)\n",
    "    print(reg_xgb.best_params_)\n",
    "\n",
    "    return reg_xgb\n",
    "\n",
    "\n",
    "# Train model for both datasets\n",
    "print('--- Alcohol Data ---')\n",
    "xgb_alcohol = xgboost_reg(train_alcohol_X, train_alcohol_y)\n",
    "print('Trained')\n",
    "print('--- Covid Data ---')\n",
    "xgb_covid = xgboost_reg(covid_train_X, covid_train_y)\n",
    "print('Trained')"
   ],
   "metadata": {
    "collapsed": false,
    "pycharm": {
     "name": "#%%\n"
    }
   }
  },
  {
   "cell_type": "code",
   "execution_count": 18,
   "outputs": [
    {
     "name": "stdout",
     "output_type": "stream",
     "text": [
      "--- Alcohol Data ---\n",
      "{'bootstrap': True, 'max_depth': 15, 'max_features': 'sqrt', 'min_samples_leaf': 1, 'min_samples_split': 2, 'n_estimators': 100}\n",
      "Trained\n",
      "--- Covid Data ---\n",
      "{'bootstrap': True, 'max_depth': 3, 'max_features': 'auto', 'min_samples_leaf': 1, 'min_samples_split': 2, 'n_estimators': 120}\n",
      "Trained\n"
     ]
    }
   ],
   "source": [
    "from sklearn.ensemble import RandomForestRegressor\n",
    "\n",
    "\n",
    "# Random Forests\n",
    "\n",
    "def random_forests(train_x, train_y):\n",
    "    # Hyperparameter grid\n",
    "    grid = [\n",
    "        {'n_estimators': [50, 70, 85, 100, 120, 140],\n",
    "         'max_features': ['auto', 'sqrt'],\n",
    "         'max_depth': [3, 5, 10, 15, 20],\n",
    "         'min_samples_split': [2, 4, 6],\n",
    "         'min_samples_leaf': [1],\n",
    "         'bootstrap': [True]}]\n",
    "\n",
    "    # Random forests 5-fold cross-validation\n",
    "    rf = GridSearchCV(RandomForestRegressor(), param_grid=grid, cv=TimeSeriesSplit(n_splits=5), n_jobs=5, scoring='neg_mean_squared_error')\n",
    "    rf.fit(train_x, train_y)\n",
    "    print(rf.best_params_)\n",
    "    # utils.eval_results(actual=test_y, predicted=y_predicted_test, show=True)\n",
    "\n",
    "    return rf\n",
    "\n",
    "\n",
    "# Train model for two datasets\n",
    "print('--- Alcohol Data ---')\n",
    "rf_alcohol = random_forests(train_alcohol_X, train_alcohol_y)\n",
    "print('Trained')\n",
    "print('--- Covid Data ---')\n",
    "rf_covid = random_forests(covid_train_X, covid_train_y)\n",
    "print('Trained')"
   ],
   "metadata": {
    "collapsed": false,
    "pycharm": {
     "name": "#%%\n"
    }
   }
  },
  {
   "cell_type": "code",
   "execution_count": 29,
   "outputs": [
    {
     "name": "stdout",
     "output_type": "stream",
     "text": [
      "--- Alcohol Data ---\n",
      "Trained\n",
      "--- Covid Data ---\n",
      "Trained\n"
     ]
    }
   ],
   "source": [
    "import keras.layers as layer\n",
    "from keras.models import Sequential\n",
    "\n",
    "\n",
    "# LSTM 3-Layer - Recurrent Neural Network\n",
    "\n",
    "def lstm_rnn(train_x, train_y):\n",
    "    # Standardize data and then transform to a suitable input\n",
    "    X_train_loc = utils.standardize(train_x).fillna(0)\n",
    "    train_x_val, train_y_val = X_train_loc.values, train_y.values\n",
    "\n",
    "    train_x_val = train_x_val.reshape((train_x_val.shape[0], 1, train_x_val.shape[1]))\n",
    "\n",
    "    # Neural network architecture\n",
    "    model = Sequential([\n",
    "        layer.Input(shape=(train_x_val.shape[1], train_x_val.shape[2])),\n",
    "        layer.LSTM(40, return_sequences=True),\n",
    "        layer.Dropout(0.25),\n",
    "        layer.LSTM(units=25, return_sequences=True),\n",
    "        layer.Dropout(0.20),\n",
    "        layer.LSTM(units=10, return_sequences=False),\n",
    "        layer.Dense(units=1, activation='linear')\n",
    "    ])\n",
    "\n",
    "    # Compile model using the mean absolute error loss function and the adam optimizer\n",
    "    model.compile(loss='mae', optimizer='adam')\n",
    "    # Train for 40 epochs\n",
    "    model.fit(train_x_val, train_y_val, epochs=55, batch_size=4, verbose=0, shuffle=False)\n",
    "\n",
    "    return model\n",
    "\n",
    "\n",
    "# Train a model for two datasets\n",
    "print('--- Alcohol Data ---')\n",
    "lstm_alcohol = lstm_rnn(train_alcohol_X, train_alcohol_y)\n",
    "print('Trained')\n",
    "print('--- Covid Data ---')\n",
    "lstm_covid = lstm_rnn(covid_train_X, covid_train_y)\n",
    "print('Trained')"
   ],
   "metadata": {
    "collapsed": false,
    "pycharm": {
     "name": "#%%\n"
    }
   }
  },
  {
   "cell_type": "code",
   "execution_count": 30,
   "outputs": [
    {
     "name": "stdout",
     "output_type": "stream",
     "text": [
      "--- Alcohol Data ---\n",
      "Trained\n",
      "--- Covid Data ---\n",
      "Trained\n"
     ]
    }
   ],
   "source": [
    "# LSTM 1-Layer - Recurrent Neural Network\n",
    "\n",
    "def one_lstm_rnn(train_x, train_y):\n",
    "    # Standardize then transform to suitable input\n",
    "    X_train_loc = utils.standardize(train_x).fillna(0)\n",
    "    train_x_val, train_y_val = X_train_loc.values, train_y.values\n",
    "\n",
    "    train_x_val = train_x_val.reshape((train_x_val.shape[0], 1, train_x_val.shape[1]))\n",
    "\n",
    "    # Neural network architecture\n",
    "    model = Sequential([\n",
    "        layer.Input(shape=(train_x_val.shape[1], train_x_val.shape[2])),\n",
    "        layer.Bidirectional(layer.LSTM(32, return_sequences=True)),\n",
    "        layer.Dropout(0.25),\n",
    "        layer.Dense(units=1, activation='linear')\n",
    "    ])\n",
    "\n",
    "    # Compile and train model as the 3-Layer one\n",
    "    model.compile(loss='mae', optimizer='adam')\n",
    "    model.fit(train_x_val, train_y_val, epochs=55, batch_size=4, verbose=0, shuffle=False)\n",
    "\n",
    "    return model\n",
    "\n",
    "\n",
    "print('--- Alcohol Data ---')\n",
    "lstm1_alcohol = one_lstm_rnn(train_alcohol_X, train_alcohol_y)\n",
    "print('Trained')\n",
    "print('--- Covid Data ---')\n",
    "lstm1_covid = one_lstm_rnn(covid_train_X, covid_train_y)\n",
    "print('Trained')"
   ],
   "metadata": {
    "collapsed": false,
    "pycharm": {
     "name": "#%%\n"
    }
   }
  },
  {
   "cell_type": "code",
   "execution_count": 31,
   "outputs": [
    {
     "name": "stdout",
     "output_type": "stream",
     "text": [
      "--- Alcohol Data ---\n",
      "Trained\n",
      "--- Covid Data ---\n",
      "Trained\n"
     ]
    }
   ],
   "source": [
    "# Gated Recurrent Unit - Recurrent Neural Network\n",
    "\n",
    "def gru_rnn(train_x, train_y):\n",
    "    # Standardize and transform to suitable input\n",
    "    X_train_loc = utils.standardize(train_x).fillna(0)\n",
    "    train_x_val, train_y_val = X_train_loc.values, train_y.values\n",
    "\n",
    "    train_x_val = train_x_val.reshape((train_x_val.shape[0], 1, train_x_val.shape[1]))\n",
    "\n",
    "    # Neural network architecture\n",
    "    model = Sequential([\n",
    "        layer.Input(shape=(train_x_val.shape[1], train_x_val.shape[2])),\n",
    "        layer.GRU(64, return_sequences=True),\n",
    "        layer.Dropout(0.25),\n",
    "        layer.GRU(units=32, return_sequences=True),\n",
    "        layer.Dropout(0.20),\n",
    "        layer.GRU(units=16, return_sequences=False),\n",
    "        layer.Dense(units=1, activation='linear')\n",
    "    ])\n",
    "    # Compile and train model\n",
    "    model.compile(loss='mae', optimizer='adam')\n",
    "    model.fit(train_x_val, train_y_val, epochs=55, batch_size=4, verbose=0, shuffle=False)\n",
    "\n",
    "    return model\n",
    "\n",
    "\n",
    "# Train a GRU model for two datasets\n",
    "print('--- Alcohol Data ---')\n",
    "gru_alcohol = gru_rnn(train_alcohol_X, train_alcohol_y)\n",
    "print('Trained')\n",
    "print('--- Covid Data ---')\n",
    "gru_covid = gru_rnn(covid_train_X, covid_train_y)\n",
    "print('Trained')"
   ],
   "metadata": {
    "collapsed": false,
    "pycharm": {
     "name": "#%%\n"
    }
   }
  },
  {
   "cell_type": "markdown",
   "source": [
    "### 2. Evaluating Performance on Entire Dataset (Alcohol)"
   ],
   "metadata": {
    "collapsed": false,
    "pycharm": {
     "name": "#%% md\n"
    }
   }
  },
  {
   "cell_type": "code",
   "execution_count": 32,
   "outputs": [
    {
     "name": "stdout",
     "output_type": "stream",
     "text": [
      "---- Elastic-Net Results ----\n",
      "Average MSE: 248.55665138826313\n",
      "Average RMSE: 13.789890049316858\n",
      "Average MAE: 10.47749800715789\n",
      "---------------------------------\n",
      "---- Linear SVM Results ----\n",
      "Average MSE: 258.11806498548583\n",
      "Average RMSE: 14.236069188709758\n",
      "Average MAE: 10.634743859114863\n",
      "---------------------------------\n",
      "---- XGBoost Results ----\n",
      "Average MSE: 218.24395561408704\n",
      "Average RMSE: 12.742873685978413\n",
      "Average MAE: 9.672941360215196\n",
      "---------------------------------\n",
      "---- Random Forest Results ----\n",
      "Average MSE: 250.93351443527294\n",
      "Average RMSE: 14.275365491246603\n",
      "Average MAE: 12.075426984417323\n",
      "---------------------------------\n",
      "---- LSTM Results ----\n",
      "Average MSE: 311.46912767882134\n",
      "Average RMSE: 15.85374505963762\n",
      "Average MAE: 11.673133139111979\n",
      "---------------------------------\n",
      "---- 1-LSTM Results ----\n",
      "Average MSE: 290.62356156524936\n",
      "Average RMSE: 15.076144212348408\n",
      "Average MAE: 11.193562814034502\n",
      "---------------------------------\n",
      "---- GRU Results ----\n",
      "Average MSE: 322.89186621521065\n",
      "Average RMSE: 16.14264788791196\n",
      "Average MAE: 11.90099030028989\n",
      "---------------------------------\n"
     ]
    }
   ],
   "source": [
    "# Lists to hold the metrics for all patients and models\n",
    "mse_elastic, mse_svm, mse_one_lstm, mse_xgb, mse_rf, mse_lstm, mse_gru = ([] for _ in range(7))\n",
    "rmse_elastic, rmse_svm, rmse_one_lstm, rmse_xgb, rmse_rf, rmse_lstm, rmse_gru = ([] for _ in range(7))\n",
    "mae_elastic, mae_svm, mae_one_lstm, mae_xgb, mae_rf, mae_lstm, mae_gru = ([] for _ in range(7))\n",
    "\n",
    "# Write results to text file\n",
    "f = open(\"output_nomothethic_a.txt\", \"a\")\n",
    "f.write('- - - PER INDIVIDUAL RESULTS GLOBAL MODELS - - -\\n')\n",
    "\n",
    "for x in range(len(test_df_temporal)):\n",
    "    # Build and evaluate a model for every single patient\n",
    "\n",
    "    test_alcohol_X, test_alcohol_y = prepare_data(x, test_df_temporal)\n",
    "    # Elastic-Net (baseline)\n",
    "    mse, rmse, mae = utils.eval_results(test_alcohol_y,\n",
    "                                        elastic_alcohol.predict(utils.standardize(test_alcohol_X).fillna(0)), False)\n",
    "\n",
    "    # Elastic-Net metrics\n",
    "    mse_elastic.append(mse)\n",
    "    rmse_elastic.append(rmse)\n",
    "    mae_elastic.append(mae)\n",
    "\n",
    "    f.write(\"Patient ID: %s\\n\" % train_df_temporal[x]['ID'][0])\n",
    "    f.write('\\n')\n",
    "    f.write('--- Elastic-Net ---\\n')\n",
    "    f.write(\"MSE: %s\\n\" % mse)\n",
    "    f.write(\"RMSE: %s\\n\" % rmse)\n",
    "    f.write(\"MAE: %s\\n\" % mae)\n",
    "    f.write('\\n')\n",
    "\n",
    "    # Linear-SVM\n",
    "\n",
    "    params = [\n",
    "        {'C': np.arange(0.1, 4, 0.1),\n",
    "         'epsilon': np.arange(6, 7, 0.1),\n",
    "         'loss': ['epsilon_insensitive'],\n",
    "         'fit_intercept': [True],\n",
    "         'max_iter': [10000]}]\n",
    "\n",
    "    mse, rmse, mae = utils.eval_results(test_alcohol_y,\n",
    "                                        svm_alcohol.predict(utils.standardize(test_alcohol_X).fillna(0)),\n",
    "                                        False)\n",
    "    # Linear-SVM metrics\n",
    "    mse_svm.append(mse)\n",
    "    rmse_svm.append(rmse)\n",
    "    mae_svm.append(mae)\n",
    "\n",
    "    f.write('--- Linear-SVM ---\\n')\n",
    "    f.write(\"MSE: %s\\n\" % mse)\n",
    "    f.write(\"RMSE: %s\\n\" % rmse)\n",
    "    f.write(\"MAE: %s\\n\" % mae)\n",
    "    f.write('\\n')\n",
    "\n",
    "    # XGBoost Regression\n",
    "    mse, rmse, mae = utils.eval_results(test_alcohol_y, xgb_alcohol.predict(test_alcohol_X), False)\n",
    "    # XGBoost metrics\n",
    "    mse_xgb.append(mse)\n",
    "    rmse_xgb.append(rmse)\n",
    "    mae_xgb.append(mae)\n",
    "\n",
    "    f.write('--- XGBoost ---\\n')\n",
    "    f.write(\"MSE: %s\\n\" % mse)\n",
    "    f.write(\"RMSE: %s\\n\" % rmse)\n",
    "    f.write(\"MAE: %s\\n\" % mae)\n",
    "    f.write('\\n')\n",
    "\n",
    "    # RF\n",
    "    mse, rmse, mae = utils.eval_results(test_alcohol_y, rf_alcohol.predict(test_alcohol_X), False)\n",
    "    # RF metrics\n",
    "    mse_rf.append(mse)\n",
    "    rmse_rf.append(rmse)\n",
    "    mae_rf.append(mae)\n",
    "\n",
    "    f.write('--- Random Forests ---\\n')\n",
    "    f.write(\"MSE: %s\\n\" % mse)\n",
    "    f.write(\"RMSE: %s\\n\" % rmse)\n",
    "    f.write(\"MAE: %s\\n\" % mae)\n",
    "    f.write('\\n')\n",
    "\n",
    "    # LSTM 3-Layer RNN\n",
    "    test_x_val = utils.standardize(test_alcohol_X).fillna(0).values\n",
    "    test_x_val = test_x_val.reshape((test_x_val.shape[0], 1, test_x_val.shape[1]))\n",
    "    mse, rmse, mae = utils.eval_results(test_alcohol_y, lstm_alcohol.predict(\n",
    "        test_x_val).flatten(), False)\n",
    "    # LSTM metrics\n",
    "    mse_lstm.append(mse)\n",
    "    rmse_lstm.append(rmse)\n",
    "    mae_lstm.append(mae)\n",
    "\n",
    "    f.write('--- LSTM RNN ---\\n')\n",
    "    f.write(\"MSE: %s\\n\" % mse)\n",
    "    f.write(\"RMSE: %s\\n\" % rmse)\n",
    "    f.write(\"MAE: %s\\n\" % mae)\n",
    "    f.write('\\n')\n",
    "\n",
    "    # LSTM 1-Layer RNN\n",
    "    mse, rmse, mae = utils.eval_results(test_alcohol_y, lstm1_alcohol.predict(\n",
    "        test_x_val).flatten(), False)\n",
    "    # LSTM metrics\n",
    "    mse_one_lstm.append(mse)\n",
    "    rmse_one_lstm.append(rmse)\n",
    "    mae_one_lstm.append(mae)\n",
    "\n",
    "    f.write('--- 1-LSTM RNN ---\\n')\n",
    "    f.write(\"MSE: %s\\n\" % mse)\n",
    "    f.write(\"RMSE: %s\\n\" % rmse)\n",
    "    f.write(\"MAE: %s\\n\" % mae)\n",
    "    f.write('\\n')\n",
    "\n",
    "    # GRU RNN\n",
    "\n",
    "    mse, rmse, mae = utils.eval_results(test_alcohol_y, gru_alcohol.predict(test_x_val).flatten(), False)\n",
    "\n",
    "    # GRU metrics\n",
    "    mse_gru.append(mse)\n",
    "    rmse_gru.append(rmse)\n",
    "    mae_gru.append(mae)\n",
    "\n",
    "    f.write('--- GRU RNN ---\\n')\n",
    "    f.write(\"MSE: %s\\n\" % mse)\n",
    "    f.write(\"RMSE: %s\\n\" % rmse)\n",
    "    f.write(\"MAE: %s\\n\" % mae)\n",
    "    f.write('\\n')\n",
    "\n",
    "f.close()\n",
    "# Compute average metrics for all models\n",
    "print('---- Elastic-Net Results ----')\n",
    "utils.average_metrics(mse_elastic, rmse_elastic, mae_elastic)\n",
    "print('---------------------------------')\n",
    "print('---- Linear SVM Results ----')\n",
    "utils.average_metrics(mse_svm, rmse_svm, mae_svm)\n",
    "print('---------------------------------')\n",
    "print('---- XGBoost Results ----')\n",
    "utils.average_metrics(mse_xgb, rmse_xgb, mae_xgb)\n",
    "print('---------------------------------')\n",
    "print('---- Random Forest Results ----')\n",
    "utils.average_metrics(mse_rf, rmse_rf, mae_rf)\n",
    "print('---------------------------------')\n",
    "print('---- LSTM Results ----')\n",
    "utils.average_metrics(mse_lstm, rmse_lstm, mae_lstm)\n",
    "print('---------------------------------')\n",
    "print('---- 1-LSTM Results ----')\n",
    "utils.average_metrics(mse_one_lstm, rmse_one_lstm, mae_one_lstm)\n",
    "print('---------------------------------')\n",
    "print('---- GRU Results ----')\n",
    "utils.average_metrics(mse_gru, rmse_gru, mae_gru)\n",
    "print('---------------------------------')\n",
    "\n",
    "rmse_overall = rmse_elastic + rmse_svm + rmse_xgb + rmse_rf + rmse_lstm + rmse_one_lstm + rmse_gru\n",
    "n = len(rmse_rf)\n",
    "model_names = ['Elastic Net'] * n + ['SVM'] * n + ['XGBoost'] * n + ['RF'] * n + ['3-Layer LSTM'] * n + [\n",
    "    '1-Layer LSTM'] * n + ['GRU'] * n\n",
    "dataset = ['Alcohol'] * len(model_names)\n",
    "mae_overall = mae_elastic + mae_svm + mae_xgb + mae_rf + mae_lstm + mae_one_lstm + mae_gru"
   ],
   "metadata": {
    "collapsed": false,
    "pycharm": {
     "name": "#%%\n"
    }
   }
  },
  {
   "cell_type": "markdown",
   "source": [
    "### 2.1 Evaluating Performance on Entire Dataset (COVID-19)"
   ],
   "metadata": {
    "collapsed": false,
    "pycharm": {
     "name": "#%% md\n"
    }
   }
  },
  {
   "cell_type": "code",
   "execution_count": 33,
   "outputs": [
    {
     "name": "stdout",
     "output_type": "stream",
     "text": [
      "---- Elastic-Net Results ----\n",
      "Average MSE: 0.863263694951668\n",
      "Average RMSE: 0.8575623196555632\n",
      "Average MAE: 0.7392624336326966\n",
      "---------------------------------\n",
      "---- Linear SVM Results ----\n",
      "Average MSE: 0.9004873240747012\n",
      "Average RMSE: 0.8818661750839356\n",
      "Average MAE: 0.7528373421750995\n",
      "---------------------------------\n",
      "---- XGBoost Results ----\n",
      "Average MSE: 0.4635160551953458\n",
      "Average RMSE: 0.6389233791006909\n",
      "Average MAE: 0.5350302536526987\n",
      "---------------------------------\n",
      "---- Random Forest Results ----\n",
      "Average MSE: 0.4694097380285083\n",
      "Average RMSE: 0.6420367124036153\n",
      "Average MAE: 0.5282653473725769\n",
      "---------------------------------\n",
      "---- LSTM Results ----\n",
      "Average MSE: 0.8421063899923328\n",
      "Average RMSE: 0.8430227162984169\n",
      "Average MAE: 0.7073068662462594\n",
      "---------------------------------\n",
      "---- 1-LSTM Results ----\n",
      "Average MSE: 0.8756755584669055\n",
      "Average RMSE: 0.8716514499264724\n",
      "Average MAE: 0.7398225177352421\n",
      "---------------------------------\n",
      "---- GRU Results ----\n",
      "Average MSE: 0.8583076419296863\n",
      "Average RMSE: 0.8544792050549009\n",
      "Average MAE: 0.7036062611025116\n",
      "---------------------------------\n"
     ]
    }
   ],
   "source": [
    "# Lists to hold the metrics for all patients and models\n",
    "mse_elastic, mse_svm, mse_one_lstm, mse_xgb, mse_rf, mse_lstm, mse_gru = ([] for _ in range(7))\n",
    "rmse_elastic, rmse_svm, rmse_one_lstm, rmse_xgb, rmse_rf, rmse_lstm, rmse_gru = ([] for _ in range(7))\n",
    "mae_elastic, mae_svm, mae_one_lstm, mae_xgb, mae_rf, mae_lstm, mae_gru = ([] for _ in range(7))\n",
    "\n",
    "# Write results to text file\n",
    "f = open(\"output_nomothethic_c.txt\", \"a\")\n",
    "f.write('- - - PER INDIVIDUAL RESULTS GLOBAL MODELS - - -\\n')\n",
    "\n",
    "for z in range(len(covid_train_x_list)):\n",
    "    # Build and evaluate a model for every single patient\n",
    "\n",
    "    # Elastic-Net (baseline)\n",
    "    mse, rmse, mae = utils.eval_results(covid_test_y_list[z],\n",
    "                                        elastic_covid.predict(utils.standardize(covid_test_x_list[z]).fillna(0)),\n",
    "                                        False)\n",
    "\n",
    "    # Elastic-Net metrics\n",
    "    mse_elastic.append(mse)\n",
    "    rmse_elastic.append(rmse)\n",
    "    mae_elastic.append(mae)\n",
    "\n",
    "    f.write(\"Patient ID: %s\\n\" % z)\n",
    "    f.write('\\n')\n",
    "    f.write('--- Elastic-Net ---\\n')\n",
    "    f.write(\"MSE: %s\\n\" % mse)\n",
    "    f.write(\"RMSE: %s\\n\" % rmse)\n",
    "    f.write(\"MAE: %s\\n\" % mae)\n",
    "    f.write('\\n')\n",
    "\n",
    "    # Linear-SVM\n",
    "\n",
    "    params = [\n",
    "        {'C': np.arange(0.1, 2, 0.1),\n",
    "         'epsilon': np.arange(0, 0.5, 0.1),\n",
    "         'loss': ['epsilon_insensitive'],\n",
    "         'fit_intercept': [True],\n",
    "         'max_iter': [10000]}]\n",
    "\n",
    "    mse, rmse, mae = utils.eval_results(covid_test_y_list[z],\n",
    "                                        svm_covid.predict(utils.standardize(covid_test_x_list[z]).fillna(0)),\n",
    "                                        False)\n",
    "    # Linear-SVM metrics\n",
    "    mse_svm.append(mse)\n",
    "    rmse_svm.append(rmse)\n",
    "    mae_svm.append(mae)\n",
    "\n",
    "    f.write('--- Linear-SVM ---\\n')\n",
    "    f.write(\"MSE: %s\\n\" % mse)\n",
    "    f.write(\"RMSE: %s\\n\" % rmse)\n",
    "    f.write(\"MAE: %s\\n\" % mae)\n",
    "    f.write('\\n')\n",
    "\n",
    "    # XGBoost Regression\n",
    "    mse, rmse, mae = utils.eval_results(covid_test_y_list[z], xgb_covid.predict(covid_test_x_list[z]), False)\n",
    "    # XGBoost metrics\n",
    "    mse_xgb.append(mse)\n",
    "    rmse_xgb.append(rmse)\n",
    "    mae_xgb.append(mae)\n",
    "\n",
    "    f.write('--- XGBoost ---\\n')\n",
    "    f.write(\"MSE: %s\\n\" % mse)\n",
    "    f.write(\"RMSE: %s\\n\" % rmse)\n",
    "    f.write(\"MAE: %s\\n\" % mae)\n",
    "    f.write('\\n')\n",
    "\n",
    "    # RF\n",
    "    mse, rmse, mae = utils.eval_results(covid_test_y_list[z], rf_covid.predict(covid_test_x_list[z]), False)\n",
    "    # RF metrics\n",
    "    mse_rf.append(mse)\n",
    "    rmse_rf.append(rmse)\n",
    "    mae_rf.append(mae)\n",
    "\n",
    "    f.write('--- Random Forests ---\\n')\n",
    "    f.write(\"MSE: %s\\n\" % mse)\n",
    "    f.write(\"RMSE: %s\\n\" % rmse)\n",
    "    f.write(\"MAE: %s\\n\" % mae)\n",
    "    f.write('\\n')\n",
    "\n",
    "    # LSTM 3-Layer RNN\n",
    "    test_x_val = utils.standardize(covid_test_x_list[z]).fillna(0).values\n",
    "    test_x_val = test_x_val.reshape((test_x_val.shape[0], 1, test_x_val.shape[1]))\n",
    "    mse, rmse, mae = utils.eval_results(covid_test_y_list[z], lstm_covid.predict(\n",
    "        test_x_val).flatten(), False)\n",
    "    # LSTM metrics\n",
    "    mse_lstm.append(mse)\n",
    "    rmse_lstm.append(rmse)\n",
    "    mae_lstm.append(mae)\n",
    "\n",
    "    f.write('--- LSTM RNN ---\\n')\n",
    "    f.write(\"MSE: %s\\n\" % mse)\n",
    "    f.write(\"RMSE: %s\\n\" % rmse)\n",
    "    f.write(\"MAE: %s\\n\" % mae)\n",
    "    f.write('\\n')\n",
    "\n",
    "    # LSTM 1-Layer RNN\n",
    "    mse, rmse, mae = utils.eval_results(covid_test_y_list[z], lstm1_covid.predict(\n",
    "        test_x_val).flatten(), False)\n",
    "    # LSTM metrics\n",
    "    mse_one_lstm.append(mse)\n",
    "    rmse_one_lstm.append(rmse)\n",
    "    mae_one_lstm.append(mae)\n",
    "\n",
    "    f.write('--- 1-LSTM RNN ---\\n')\n",
    "    f.write(\"MSE: %s\\n\" % mse)\n",
    "    f.write(\"RMSE: %s\\n\" % rmse)\n",
    "    f.write(\"MAE: %s\\n\" % mae)\n",
    "    f.write('\\n')\n",
    "\n",
    "    # GRU RNN\n",
    "    mse, rmse, mae = utils.eval_results(covid_test_y_list[z], gru_covid.predict(test_x_val).flatten(), False)\n",
    "\n",
    "    # GRU metrics\n",
    "    mse_gru.append(mse)\n",
    "    rmse_gru.append(rmse)\n",
    "    mae_gru.append(mae)\n",
    "\n",
    "    f.write('--- GRU RNN ---\\n')\n",
    "    f.write(\"MSE: %s\\n\" % mse)\n",
    "    f.write(\"RMSE: %s\\n\" % rmse)\n",
    "    f.write(\"MAE: %s\\n\" % mae)\n",
    "    f.write('\\n')\n",
    "\n",
    "f.close()\n",
    "# Compute average metrics for all models\n",
    "print('---- Elastic-Net Results ----')\n",
    "utils.average_metrics(mse_elastic, rmse_elastic, mae_elastic)\n",
    "print('---------------------------------')\n",
    "print('---- Linear SVM Results ----')\n",
    "utils.average_metrics(mse_svm, rmse_svm, mae_svm)\n",
    "print('---------------------------------')\n",
    "print('---- XGBoost Results ----')\n",
    "utils.average_metrics(mse_xgb, rmse_xgb, mae_xgb)\n",
    "print('---------------------------------')\n",
    "print('---- Random Forest Results ----')\n",
    "utils.average_metrics(mse_rf, rmse_rf, mae_rf)\n",
    "print('---------------------------------')\n",
    "print('---- LSTM Results ----')\n",
    "utils.average_metrics(mse_lstm, rmse_lstm, mae_lstm)\n",
    "print('---------------------------------')\n",
    "print('---- 1-LSTM Results ----')\n",
    "utils.average_metrics(mse_one_lstm, rmse_one_lstm, mae_one_lstm)\n",
    "print('---------------------------------')\n",
    "print('---- GRU Results ----')\n",
    "utils.average_metrics(mse_gru, rmse_gru, mae_gru)\n",
    "print('---------------------------------')\n",
    "\n",
    "rmse_overall_covid = rmse_elastic + rmse_svm + rmse_xgb + rmse_rf + rmse_lstm + rmse_one_lstm + rmse_gru\n",
    "n = len(rmse_rf)\n",
    "model_names_covid = ['Elastic Net'] * n + ['SVM'] * n + ['XGBoost'] * n + ['RF'] * n + ['3-Layer LSTM'] * n + [\n",
    "    '1-Layer LSTM'] * n + ['GRU'] * n\n",
    "dataset_covid = ['COVID-19'] * len(model_names_covid)\n",
    "mae_overall_covid = mae_elastic + mae_svm + mae_xgb + mae_rf + mae_lstm + mae_one_lstm + mae_gru"
   ],
   "metadata": {
    "collapsed": false,
    "pycharm": {
     "name": "#%%\n"
    }
   }
  },
  {
   "cell_type": "code",
   "execution_count": 13,
   "outputs": [],
   "source": [
    "# Write results to csv\n",
    "\n",
    "mae = mae_overall + mae_overall_covid\n",
    "rmse = rmse_overall + rmse_overall_covid\n",
    "models = model_names + model_names_covid\n",
    "dataset_names = dataset + dataset_covid\n",
    "\n",
    "dictionary = {'MAE': mae, 'RMSE': rmse, 'Model': models, 'Dataset': dataset_names}\n",
    "df = pd.DataFrame(data=dictionary)\n",
    "\n",
    "df.to_csv('nomothetic.csv')"
   ],
   "metadata": {
    "collapsed": false,
    "pycharm": {
     "name": "#%%\n"
    }
   }
  },
  {
   "cell_type": "code",
   "execution_count": 13,
   "outputs": [],
   "source": [],
   "metadata": {
    "collapsed": false,
    "pycharm": {
     "name": "#%%\n"
    }
   }
  }
 ],
 "metadata": {
  "kernelspec": {
   "display_name": "Python 3",
   "language": "python",
   "name": "python3"
  },
  "language_info": {
   "codemirror_mode": {
    "name": "ipython",
    "version": 2
   },
   "file_extension": ".py",
   "mimetype": "text/x-python",
   "name": "python",
   "nbconvert_exporter": "python",
   "pygments_lexer": "ipython2",
   "version": "2.7.6"
  }
 },
 "nbformat": 4,
 "nbformat_minor": 0
}