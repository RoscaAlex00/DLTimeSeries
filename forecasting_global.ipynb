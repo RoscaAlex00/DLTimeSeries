{
 "cells": [
  {
   "cell_type": "markdown",
   "metadata": {
    "collapsed": true,
    "pycharm": {
     "name": "#%% md\n"
    }
   },
   "source": [
    "# 1-step Forecasting with linear and non-linear models (Nomothetic)"
   ]
  },
  {
   "cell_type": "code",
   "execution_count": 18,
   "outputs": [],
   "source": [
    "import pandas as pd\n",
    "import numpy as np\n",
    "%matplotlib inline\n",
    "import matplotlib.pyplot as plt\n",
    "import seaborn as sns\n",
    "from sklearn.svm import LinearSVR\n",
    "from sklearn.model_selection import GridSearchCV\n",
    "import xgboost as xgb\n",
    "from sklearn import linear_model as lm\n",
    "from sklearn.model_selection import train_test_split\n",
    "import sklearn.metrics as metrics\n",
    "\n",
    "import utils\n",
    "\n",
    "# Plot settings\n",
    "plt.rcParams['figure.figsize'] = (16, 8)\n",
    "plt.rcParams['figure.dpi'] = 150\n",
    "sns.set()"
   ],
   "metadata": {
    "collapsed": false,
    "pycharm": {
     "name": "#%%\n"
    }
   }
  },
  {
   "cell_type": "code",
   "execution_count": 19,
   "outputs": [
    {
     "data": {
      "text/plain": "    Unnamed: 0  ID               start          finish  drinks  comfortable  \\\n0            1   1 2018-02-06 16:20:00  2/6/2018 16:22       3     7.382609   \n31           2   1 2018-02-06 18:54:00  2/6/2018 18:58       0    14.382609   \n1            3   1 2018-02-06 20:08:00  2/6/2018 20:22       0    15.382609   \n2            4   1 2018-02-06 22:29:00  2/6/2018 22:46       0    21.382609   \n36           5   1 2018-02-07 10:52:00  2/7/2018 11:23       0   -11.617391   \n\n     stressed       down       calm   pressure  ...    cosT.1    sinT.1  \\\n0   -9.817391  10.843478 -37.791304   6.173913  ...  1.000000  0.000000   \n31  47.182609   7.843478   7.208696  10.173913  ...  0.892979  0.450098   \n1   12.182609  10.843478  20.208696  18.173913  ...  0.418660  0.908143   \n2   -5.817391  -2.156522   8.208696   5.173913  ...  0.108867  0.994056   \n36   5.182609   0.843478 -24.791304  -4.826087  ...  0.043619 -0.999048   \n\n     cos2T.1   sin2T.1    cosW.1    sinW.1  dayvar.1  beepvar.1  filter.1  \\\n0   1.000000  0.000000  1.000000  0.000000         1          4         0   \n31  0.594823  0.803857  0.997777  0.066647         1          5         0   \n1  -0.649448  0.760406  0.986795  0.161973         1          6         0   \n2  -0.976296  0.216440  0.978277  0.207302         1          7         0   \n36 -0.996195 -0.087156  0.777930  0.628351         2          1         0   \n\n    consec.1  \n0          1  \n31         2  \n1          3  \n2          4  \n36         7  \n\n[5 rows x 116 columns]",
      "text/html": "<div>\n<style scoped>\n    .dataframe tbody tr th:only-of-type {\n        vertical-align: middle;\n    }\n\n    .dataframe tbody tr th {\n        vertical-align: top;\n    }\n\n    .dataframe thead th {\n        text-align: right;\n    }\n</style>\n<table border=\"1\" class=\"dataframe\">\n  <thead>\n    <tr style=\"text-align: right;\">\n      <th></th>\n      <th>Unnamed: 0</th>\n      <th>ID</th>\n      <th>start</th>\n      <th>finish</th>\n      <th>drinks</th>\n      <th>comfortable</th>\n      <th>stressed</th>\n      <th>down</th>\n      <th>calm</th>\n      <th>pressure</th>\n      <th>...</th>\n      <th>cosT.1</th>\n      <th>sinT.1</th>\n      <th>cos2T.1</th>\n      <th>sin2T.1</th>\n      <th>cosW.1</th>\n      <th>sinW.1</th>\n      <th>dayvar.1</th>\n      <th>beepvar.1</th>\n      <th>filter.1</th>\n      <th>consec.1</th>\n    </tr>\n  </thead>\n  <tbody>\n    <tr>\n      <th>0</th>\n      <td>1</td>\n      <td>1</td>\n      <td>2018-02-06 16:20:00</td>\n      <td>2/6/2018 16:22</td>\n      <td>3</td>\n      <td>7.382609</td>\n      <td>-9.817391</td>\n      <td>10.843478</td>\n      <td>-37.791304</td>\n      <td>6.173913</td>\n      <td>...</td>\n      <td>1.000000</td>\n      <td>0.000000</td>\n      <td>1.000000</td>\n      <td>0.000000</td>\n      <td>1.000000</td>\n      <td>0.000000</td>\n      <td>1</td>\n      <td>4</td>\n      <td>0</td>\n      <td>1</td>\n    </tr>\n    <tr>\n      <th>31</th>\n      <td>2</td>\n      <td>1</td>\n      <td>2018-02-06 18:54:00</td>\n      <td>2/6/2018 18:58</td>\n      <td>0</td>\n      <td>14.382609</td>\n      <td>47.182609</td>\n      <td>7.843478</td>\n      <td>7.208696</td>\n      <td>10.173913</td>\n      <td>...</td>\n      <td>0.892979</td>\n      <td>0.450098</td>\n      <td>0.594823</td>\n      <td>0.803857</td>\n      <td>0.997777</td>\n      <td>0.066647</td>\n      <td>1</td>\n      <td>5</td>\n      <td>0</td>\n      <td>2</td>\n    </tr>\n    <tr>\n      <th>1</th>\n      <td>3</td>\n      <td>1</td>\n      <td>2018-02-06 20:08:00</td>\n      <td>2/6/2018 20:22</td>\n      <td>0</td>\n      <td>15.382609</td>\n      <td>12.182609</td>\n      <td>10.843478</td>\n      <td>20.208696</td>\n      <td>18.173913</td>\n      <td>...</td>\n      <td>0.418660</td>\n      <td>0.908143</td>\n      <td>-0.649448</td>\n      <td>0.760406</td>\n      <td>0.986795</td>\n      <td>0.161973</td>\n      <td>1</td>\n      <td>6</td>\n      <td>0</td>\n      <td>3</td>\n    </tr>\n    <tr>\n      <th>2</th>\n      <td>4</td>\n      <td>1</td>\n      <td>2018-02-06 22:29:00</td>\n      <td>2/6/2018 22:46</td>\n      <td>0</td>\n      <td>21.382609</td>\n      <td>-5.817391</td>\n      <td>-2.156522</td>\n      <td>8.208696</td>\n      <td>5.173913</td>\n      <td>...</td>\n      <td>0.108867</td>\n      <td>0.994056</td>\n      <td>-0.976296</td>\n      <td>0.216440</td>\n      <td>0.978277</td>\n      <td>0.207302</td>\n      <td>1</td>\n      <td>7</td>\n      <td>0</td>\n      <td>4</td>\n    </tr>\n    <tr>\n      <th>36</th>\n      <td>5</td>\n      <td>1</td>\n      <td>2018-02-07 10:52:00</td>\n      <td>2/7/2018 11:23</td>\n      <td>0</td>\n      <td>-11.617391</td>\n      <td>5.182609</td>\n      <td>0.843478</td>\n      <td>-24.791304</td>\n      <td>-4.826087</td>\n      <td>...</td>\n      <td>0.043619</td>\n      <td>-0.999048</td>\n      <td>-0.996195</td>\n      <td>-0.087156</td>\n      <td>0.777930</td>\n      <td>0.628351</td>\n      <td>2</td>\n      <td>1</td>\n      <td>0</td>\n      <td>7</td>\n    </tr>\n  </tbody>\n</table>\n<p>5 rows × 116 columns</p>\n</div>"
     },
     "execution_count": 19,
     "metadata": {},
     "output_type": "execute_result"
    }
   ],
   "source": [
    "# Reading alcohol data\n",
    "train_df, test_df, data_raw_list = utils.load_alcohol()\n",
    "\n",
    "combined_data = []\n",
    "\n",
    "for i in range(len(train_df)):\n",
    "    train = train_df[i]\n",
    "    test = test_df[i]\n",
    "    # Combine both train and test sets since the initial split was 50/50\n",
    "    combined = pd.concat([train, test])\n",
    "    # Sort by date\n",
    "    combined['start'] = pd.to_datetime(combined['start'])\n",
    "    combined = combined.sort_values(by='start')\n",
    "    combined_data.append(combined)\n",
    "\n",
    "combined_data[0].head()"
   ],
   "metadata": {
    "collapsed": false,
    "pycharm": {
     "name": "#%%\n"
    }
   }
  },
  {
   "cell_type": "code",
   "execution_count": 52,
   "outputs": [],
   "source": [
    "# Reading covid data\n",
    "covid_data = utils.load_covid()\n",
    "\n",
    "covid_data = covid_data.drop(columns=['ID', 'ID_lag', 'time', 'time_lag', 'Duration', 'Duration_lag'])\n",
    "\n",
    "covid_data = covid_data.dropna()\n",
    "\n",
    "covid_X = covid_data.drop(covid_data.columns[range(0, 19)], axis=1)\n",
    "covid_y = covid_data['C19_worry']\n",
    "\n",
    "covid_train_x, covid_test_x, covid_train_y, covid_test_y = train_test_split(covid_X, covid_y, test_size=0.3, random_state=42)"
   ],
   "metadata": {
    "collapsed": false,
    "pycharm": {
     "name": "#%%\n"
    }
   }
  },
  {
   "cell_type": "markdown",
   "source": [
    "# 1. Nomothetic Models Regression"
   ],
   "metadata": {
    "collapsed": false,
    "pycharm": {
     "name": "#%% md\n"
    }
   }
  },
  {
   "cell_type": "code",
   "execution_count": 54,
   "outputs": [
    {
     "name": "stdout",
     "output_type": "stream",
     "text": [
      "<class 'pandas.core.frame.DataFrame'>\n",
      "RangeIndex: 1326 entries, 0 to 1325\n",
      "Data columns (total 57 columns):\n",
      " #   Column              Non-Null Count  Dtype  \n",
      "---  ------              --------------  -----  \n",
      " 0   drinks.1            1326 non-null   int64  \n",
      " 1   comfortable.1       1326 non-null   float64\n",
      " 2   stressed.1          1326 non-null   float64\n",
      " 3   down.1              1326 non-null   float64\n",
      " 4   calm.1              1326 non-null   float64\n",
      " 5   pressure.1          1326 non-null   float64\n",
      " 6   enthusiastic.1      1326 non-null   float64\n",
      " 7   happy.1             1326 non-null   float64\n",
      " 8   conflict.1          1326 non-null   float64\n",
      " 9   craving.1           1326 non-null   float64\n",
      " 10  impulsive.1         1326 non-null   float64\n",
      " 11  posexpect.1         1326 non-null   float64\n",
      " 12  peerpercent.1       1326 non-null   float64\n",
      " 13  wantdrink.1         1326 non-null   float64\n",
      " 14  delay_grat.1        1326 non-null   float64\n",
      " 15  angry.1             1326 non-null   float64\n",
      " 16  drinkpredict.1      1326 non-null   float64\n",
      " 17  restless_sleep.1    1326 non-null   float64\n",
      " 18  difficulty_sleep.1  1326 non-null   float64\n",
      " 19  hours_sleep.1       1326 non-null   float64\n",
      " 20  lag.1               1326 non-null   float64\n",
      " 21  tdif.1              1326 non-null   float64\n",
      " 22  cumsumT.1           1326 non-null   float64\n",
      " 23  drinkbin.1          1326 non-null   int64  \n",
      " 24  drinkH.1            1326 non-null   int64  \n",
      " 25  day.1               1326 non-null   int64  \n",
      " 26  mon.1               1326 non-null   int64  \n",
      " 27  tues.1              1326 non-null   int64  \n",
      " 28  wed.1               1326 non-null   int64  \n",
      " 29  thur.1              1326 non-null   int64  \n",
      " 30  fri.1               1326 non-null   int64  \n",
      " 31  sat.1               1326 non-null   int64  \n",
      " 32  sun.1               1326 non-null   int64  \n",
      " 33  ping.1              1326 non-null   int64  \n",
      " 34  ping1.1             1326 non-null   int64  \n",
      " 35  ping2.1             1326 non-null   int64  \n",
      " 36  ping3.1             1326 non-null   int64  \n",
      " 37  ping4.1             1326 non-null   int64  \n",
      " 38  ping5.1             1326 non-null   int64  \n",
      " 39  ping6.1             1326 non-null   int64  \n",
      " 40  ping7.1             1326 non-null   int64  \n",
      " 41  ping8.1             1326 non-null   int64  \n",
      " 42  linear.1            1326 non-null   float64\n",
      " 43  quad.1              1326 non-null   float64\n",
      " 44  cub.1               1326 non-null   float64\n",
      " 45  cosT.1              1326 non-null   float64\n",
      " 46  sinT.1              1326 non-null   float64\n",
      " 47  cos2T.1             1326 non-null   float64\n",
      " 48  sin2T.1             1326 non-null   float64\n",
      " 49  cosW.1              1326 non-null   float64\n",
      " 50  sinW.1              1326 non-null   float64\n",
      " 51  dayvar.1            1326 non-null   int64  \n",
      " 52  beepvar.1           1326 non-null   int64  \n",
      " 53  filter.1            1326 non-null   int64  \n",
      " 54  consec.1            1326 non-null   int64  \n",
      " 55  NA.                 1326 non-null   float64\n",
      " 56  NA..1               1326 non-null   float64\n",
      "dtypes: float64(33), int64(24)\n",
      "memory usage: 590.6 KB\n"
     ]
    }
   ],
   "source": [
    "# Reading in the train data\n",
    "train_global = pd.read_csv('data/alcohol_data/global (mean-centered)/n.train.csv')\n",
    "train_global_x = train_global.drop(train_global.columns[range(0, 60)], axis=1).fillna(0)\n",
    "# train_global_x = train_global_x.drop(train_global_x.columns[range(20, 57)], axis=1).fillna(0)\n",
    "train_global_y = train_global['craving']\n",
    "\n",
    "train_global_x.info()"
   ],
   "metadata": {
    "collapsed": false,
    "pycharm": {
     "name": "#%%\n"
    }
   }
  },
  {
   "cell_type": "code",
   "execution_count": 55,
   "outputs": [
    {
     "data": {
      "text/plain": "     drinks.1  comfortable.1  stressed.1     down.1    calm.1  pressure.1  \\\n473         0      32.144068   -37.20339 -28.686441   8.09322   -2.771186   \n474         1      21.144068   -37.20339 -25.686441 -27.90678   -2.771186   \n475         2      32.144068   -37.20339 -27.686441  34.09322   -2.771186   \n476         3      32.144068   -35.20339 -25.686441  45.09322   -2.771186   \n477         0      32.144068   -37.20339 -26.686441  22.09322   -0.771186   \n\n     enthusiastic.1    happy.1  conflict.1  craving.1  ...   cos2T.1  \\\n473       44.084746  16.728814   -9.542373 -21.728814  ...  1.000000   \n474       20.084746  25.728814   -9.542373 -21.728814  ...  0.484810   \n475       35.084746  35.728814   -9.542373  28.271186  ... -0.190809   \n476       23.084746  35.728814   -8.542373 -21.728814  ... -0.987688   \n477      -40.915254  -5.271186   56.457627 -21.728814  ... -0.920505   \n\n      sin2T.1    cosW.1    sinW.1  dayvar.1  beepvar.1  filter.1  consec.1  \\\n473  0.000000  1.000000  0.000000         1          4         0         1   \n474 -0.874620  0.681086  0.732203         2          3         0         9   \n475  0.981627  0.520371  0.853940         2          6         0        12   \n476  0.156435  0.443965  0.896044         2          7         0        13   \n477  0.390731  0.028669  0.999589         3          1         0        16   \n\n     NA.  NA..1  \n473  0.0    0.0  \n474  0.0    0.0  \n475  0.0    0.0  \n476  0.0    0.0  \n477  0.0    0.0  \n\n[5 rows x 57 columns]",
      "text/html": "<div>\n<style scoped>\n    .dataframe tbody tr th:only-of-type {\n        vertical-align: middle;\n    }\n\n    .dataframe tbody tr th {\n        vertical-align: top;\n    }\n\n    .dataframe thead th {\n        text-align: right;\n    }\n</style>\n<table border=\"1\" class=\"dataframe\">\n  <thead>\n    <tr style=\"text-align: right;\">\n      <th></th>\n      <th>drinks.1</th>\n      <th>comfortable.1</th>\n      <th>stressed.1</th>\n      <th>down.1</th>\n      <th>calm.1</th>\n      <th>pressure.1</th>\n      <th>enthusiastic.1</th>\n      <th>happy.1</th>\n      <th>conflict.1</th>\n      <th>craving.1</th>\n      <th>...</th>\n      <th>cos2T.1</th>\n      <th>sin2T.1</th>\n      <th>cosW.1</th>\n      <th>sinW.1</th>\n      <th>dayvar.1</th>\n      <th>beepvar.1</th>\n      <th>filter.1</th>\n      <th>consec.1</th>\n      <th>NA.</th>\n      <th>NA..1</th>\n    </tr>\n  </thead>\n  <tbody>\n    <tr>\n      <th>473</th>\n      <td>0</td>\n      <td>32.144068</td>\n      <td>-37.20339</td>\n      <td>-28.686441</td>\n      <td>8.09322</td>\n      <td>-2.771186</td>\n      <td>44.084746</td>\n      <td>16.728814</td>\n      <td>-9.542373</td>\n      <td>-21.728814</td>\n      <td>...</td>\n      <td>1.000000</td>\n      <td>0.000000</td>\n      <td>1.000000</td>\n      <td>0.000000</td>\n      <td>1</td>\n      <td>4</td>\n      <td>0</td>\n      <td>1</td>\n      <td>0.0</td>\n      <td>0.0</td>\n    </tr>\n    <tr>\n      <th>474</th>\n      <td>1</td>\n      <td>21.144068</td>\n      <td>-37.20339</td>\n      <td>-25.686441</td>\n      <td>-27.90678</td>\n      <td>-2.771186</td>\n      <td>20.084746</td>\n      <td>25.728814</td>\n      <td>-9.542373</td>\n      <td>-21.728814</td>\n      <td>...</td>\n      <td>0.484810</td>\n      <td>-0.874620</td>\n      <td>0.681086</td>\n      <td>0.732203</td>\n      <td>2</td>\n      <td>3</td>\n      <td>0</td>\n      <td>9</td>\n      <td>0.0</td>\n      <td>0.0</td>\n    </tr>\n    <tr>\n      <th>475</th>\n      <td>2</td>\n      <td>32.144068</td>\n      <td>-37.20339</td>\n      <td>-27.686441</td>\n      <td>34.09322</td>\n      <td>-2.771186</td>\n      <td>35.084746</td>\n      <td>35.728814</td>\n      <td>-9.542373</td>\n      <td>28.271186</td>\n      <td>...</td>\n      <td>-0.190809</td>\n      <td>0.981627</td>\n      <td>0.520371</td>\n      <td>0.853940</td>\n      <td>2</td>\n      <td>6</td>\n      <td>0</td>\n      <td>12</td>\n      <td>0.0</td>\n      <td>0.0</td>\n    </tr>\n    <tr>\n      <th>476</th>\n      <td>3</td>\n      <td>32.144068</td>\n      <td>-35.20339</td>\n      <td>-25.686441</td>\n      <td>45.09322</td>\n      <td>-2.771186</td>\n      <td>23.084746</td>\n      <td>35.728814</td>\n      <td>-8.542373</td>\n      <td>-21.728814</td>\n      <td>...</td>\n      <td>-0.987688</td>\n      <td>0.156435</td>\n      <td>0.443965</td>\n      <td>0.896044</td>\n      <td>2</td>\n      <td>7</td>\n      <td>0</td>\n      <td>13</td>\n      <td>0.0</td>\n      <td>0.0</td>\n    </tr>\n    <tr>\n      <th>477</th>\n      <td>0</td>\n      <td>32.144068</td>\n      <td>-37.20339</td>\n      <td>-26.686441</td>\n      <td>22.09322</td>\n      <td>-0.771186</td>\n      <td>-40.915254</td>\n      <td>-5.271186</td>\n      <td>56.457627</td>\n      <td>-21.728814</td>\n      <td>...</td>\n      <td>-0.920505</td>\n      <td>0.390731</td>\n      <td>0.028669</td>\n      <td>0.999589</td>\n      <td>3</td>\n      <td>1</td>\n      <td>0</td>\n      <td>16</td>\n      <td>0.0</td>\n      <td>0.0</td>\n    </tr>\n  </tbody>\n</table>\n<p>5 rows × 57 columns</p>\n</div>"
     },
     "execution_count": 55,
     "metadata": {},
     "output_type": "execute_result"
    }
   ],
   "source": [
    "# Reading in the test data\n",
    "test_global = pd.read_csv('data/alcohol_data/global (mean-centered)/n.test.csv')\n",
    "test_global_x = test_global.drop(test_global.columns[range(0, 60)], axis=1).fillna(0)\n",
    "# test_global_x = test_global_x.drop(test_global_x.columns[range(20, 57)], axis=1).fillna(0)\n",
    "test_global_y = test_global['craving']\n",
    "\n",
    "X_test_list = []\n",
    "y_test_list = []\n",
    "unique_ids = np.unique(test_global['ID'])\n",
    "for i in range(len(unique_ids)):\n",
    "    individual = test_global.loc[test_global['ID'] == unique_ids[i]]\n",
    "    individual_x = individual.drop(individual.columns[range(0, 60)], axis=1).fillna(0)\n",
    "    # X_test_list.append(individual_x.drop(individual_x.columns[range(20, 57)], axis=1).fillna(0))\n",
    "    X_test_list.append(individual_x)\n",
    "    y_test_list.append(individual['craving'])\n",
    "\n",
    "X_test_list[10].head()"
   ],
   "metadata": {
    "collapsed": false,
    "pycharm": {
     "name": "#%%\n"
    }
   }
  },
  {
   "cell_type": "code",
   "execution_count": 56,
   "outputs": [
    {
     "name": "stdout",
     "output_type": "stream",
     "text": [
      "--- Alcohol Data ---\n",
      "--- Elastic-Net Global Results ---\n",
      "R_squared: 0.3111495401741893\n",
      "MAPE: 1.7065650938124857\n",
      "RMSE: 14.320462960174392\n",
      "MAE: 9.602303099669058\n",
      "CORR: 0.5697637975019556\n",
      "--- Covid Data ---\n",
      "--- Elastic-Net Global Results ---\n",
      "R_squared: 0.4589016276507417\n",
      "MAPE: 0.30795570817365764\n",
      "RMSE: 0.6182030460549277\n",
      "MAE: 0.4566836537280723\n",
      "CORR: 0.678954617048342\n"
     ]
    }
   ],
   "source": [
    "# Elastic-Net\n",
    "def elastic_net(train_x, test_x, train_y, test_y):\n",
    "    X_train_loc = utils.standardize(train_x).fillna(0)\n",
    "    X_test_loc = utils.standardize(test_x).fillna(0)\n",
    "\n",
    "    l1_ratios = np.arange(0.01, 0.6, 0.05)\n",
    "    elastic_reg = lm.ElasticNetCV(alphas=np.arange(0.01, 20, 0.05), l1_ratio=l1_ratios, cv=5, max_iter=100000,\n",
    "                                  fit_intercept=True)\n",
    "    elastic_reg.fit(X_train_loc, train_y)\n",
    "    y_predicted_test = elastic_reg.predict(X_test_loc)\n",
    "\n",
    "    print('--- Elastic-Net Global Results ---')\n",
    "    utils.eval_results(actual=test_y, predicted=y_predicted_test, show=True)\n",
    "\n",
    "print('--- Alcohol Data ---')\n",
    "elastic_net(train_global_x, test_global_x, train_global_y, test_global_y)\n",
    "print('--- Covid Data ---')\n",
    "elastic_net(covid_train_x, covid_test_x, covid_train_y, covid_test_y)"
   ],
   "metadata": {
    "collapsed": false,
    "pycharm": {
     "name": "#%%\n"
    }
   }
  },
  {
   "cell_type": "code",
   "execution_count": 57,
   "outputs": [
    {
     "name": "stdout",
     "output_type": "stream",
     "text": [
      "--- Alcohol Data ---\n",
      "--- Linear-SVM Global Results ---\n",
      "R_squared: 0.31527268796699814\n",
      "MAPE: 1.7852204591663705\n",
      "RMSE: 14.277540723152345\n",
      "MAE: 9.304087984492881\n",
      "CORR: 0.5701790096176893\n",
      "--- Covid Data ---\n",
      "--- Linear-SVM Global Results ---\n",
      "R_squared: -4.197145031083166\n",
      "MAPE: 1.0\n",
      "RMSE: 1.9159115035483552\n",
      "MAE: 1.7217496962332928\n",
      "CORR: nan\n"
     ]
    },
    {
     "name": "stderr",
     "output_type": "stream",
     "text": [
      "C:\\Users\\Alex\\AppData\\Local\\Programs\\Python\\Python38\\lib\\site-packages\\numpy\\lib\\function_base.py:2829: RuntimeWarning: invalid value encountered in true_divide\n",
      "  c /= stddev[:, None]\n",
      "C:\\Users\\Alex\\AppData\\Local\\Programs\\Python\\Python38\\lib\\site-packages\\numpy\\lib\\function_base.py:2830: RuntimeWarning: invalid value encountered in true_divide\n",
      "  c /= stddev[None, :]\n"
     ]
    }
   ],
   "source": [
    "# Linear-SVM\n",
    "def linear_svm(train_x, test_x, train_y, test_y):\n",
    "    X_train_loc = utils.standardize(train_x).fillna(0)\n",
    "    X_test_loc = utils.standardize(test_x).fillna(0)\n",
    "\n",
    "    params = [\n",
    "        {'C': np.arange(0.1, 4, 0.1),\n",
    "         'epsilon': np.arange(6, 7, 0.1),\n",
    "         'loss': ['epsilon_insensitive'],\n",
    "         'fit_intercept': [True],\n",
    "         'max_iter': [10000]}]\n",
    "\n",
    "    clf = GridSearchCV(estimator=LinearSVR(), param_grid=params, scoring='r2', cv=5)\n",
    "    clf.fit(X_train_loc, train_y)\n",
    "    # best_params = clf.best_params_\n",
    "    # print(best_params)\n",
    "    y_predicted_test = clf.predict(X_test_loc)\n",
    "    print('--- Linear-SVM Global Results ---')\n",
    "    utils.eval_results(actual=test_y, predicted=y_predicted_test, show=True)\n",
    "\n",
    "\n",
    "print('--- Alcohol Data ---')\n",
    "linear_svm(train_global_x, test_global_x, train_global_y, test_global_y)\n",
    "print('--- Covid Data ---')\n",
    "linear_svm(covid_train_x, covid_test_x, covid_train_y, covid_test_y)"
   ],
   "metadata": {
    "collapsed": false,
    "pycharm": {
     "name": "#%%\n"
    }
   }
  },
  {
   "cell_type": "code",
   "execution_count": 58,
   "outputs": [
    {
     "name": "stdout",
     "output_type": "stream",
     "text": [
      "--- Alcohol Data ---\n",
      "{'alpha': 0.0, 'booster': 'gbtree', 'eval_metric': 'rmse', 'max_depth': 1, 'n_estimators': 25, 'objective': 'reg:squarederror'}\n",
      "--- XGBoost Global Results ---\n",
      "R_squared: 0.2841351799677859\n",
      "MAPE: 1.5832776336563623\n",
      "RMSE: 14.598562453412658\n",
      "MAE: 9.749247074954727\n",
      "CORR: 0.5439972489072176\n",
      "--- Covid Data ---\n",
      "{'alpha': 0.9, 'booster': 'gbtree', 'eval_metric': 'rmse', 'max_depth': 2, 'n_estimators': 20, 'objective': 'reg:squarederror'}\n",
      "--- XGBoost Global Results ---\n",
      "R_squared: 0.45491114719617065\n",
      "MAPE: 0.31141959869364294\n",
      "RMSE: 0.6204784138366619\n",
      "MAE: 0.46572753392331945\n",
      "CORR: 0.6756696659280473\n"
     ]
    }
   ],
   "source": [
    "# XGBoost\n",
    "def xgboost_reg(train_x, test_x, train_y, test_y):\n",
    "    params = [\n",
    "        {'objective': ['reg:squarederror'],\n",
    "         'n_estimators': [20, 25, 30],\n",
    "         'booster': ['gbtree'],\n",
    "         'alpha': np.arange(0, 1, 0.1),\n",
    "         'eval_metric': ['rmse'],\n",
    "         'max_depth': np.arange(1, 8, 1)}]\n",
    "\n",
    "    reg_xgb = GridSearchCV(xgb.XGBRegressor(), params, cv=5, scoring='r2')\n",
    "    reg_xgb.fit(train_x, train_y)\n",
    "    print(reg_xgb.best_params_)\n",
    "    y_predicted_test = reg_xgb.predict(test_x)\n",
    "    print('--- XGBoost Global Results ---')\n",
    "    utils.eval_results(actual=test_y, predicted=y_predicted_test, show=True)\n",
    "\n",
    "\n",
    "print('--- Alcohol Data ---')\n",
    "xgboost_reg(train_global_x, test_global_x, train_global_y, test_global_y)\n",
    "print('--- Covid Data ---')\n",
    "xgboost_reg(covid_train_x, covid_test_x, covid_train_y, covid_test_y)"
   ],
   "metadata": {
    "collapsed": false,
    "pycharm": {
     "name": "#%%\n"
    }
   }
  },
  {
   "cell_type": "code",
   "execution_count": 60,
   "outputs": [
    {
     "name": "stdout",
     "output_type": "stream",
     "text": [
      "--- Alcohol Data ---\n",
      "R_squared: 0.22291570165871555\n",
      "MAPE: 1.9042010916349585\n",
      "RMSE: 15.209980206167824\n",
      "MAE: 9.63807734271637\n",
      "CORR: 0.4967365047256148\n",
      "--- Covid Data ---\n",
      "R_squared: 0.4163023526541726\n",
      "MAPE: 0.2454156702542025\n",
      "RMSE: 0.6420768300390796\n",
      "MAE: 0.3953051690922038\n",
      "CORR: 0.6645473152084025\n"
     ]
    }
   ],
   "source": [
    "import keras.layers as layer\n",
    "from keras.models import Sequential\n",
    "\n",
    "# LSTM - Recurrent Neural Network\n",
    "def lstm_rnn(train_x, test_x, train_y, test_y):\n",
    "    X_train_loc = utils.standardize(train_x).fillna(0)\n",
    "    X_test_loc = utils.standardize(test_x).fillna(0)\n",
    "    train_x_val, train_y_val, test_x_val, test_y_val = X_train_loc.values, train_y.values, X_test_loc.values, test_y.values\n",
    "\n",
    "    train_x_val = train_x_val.reshape((train_x_val.shape[0], 1, train_x_val.shape[1]))\n",
    "    test_x_val = test_x_val.reshape((test_x_val.shape[0], 1, test_x_val.shape[1]))\n",
    "\n",
    "    model = Sequential([\n",
    "        layer.LSTM(40, return_sequences=True, input_shape=(train_x_val.shape[1], train_x_val.shape[2])),\n",
    "        layer.Dropout(0.25),\n",
    "        layer.LSTM(units=25, return_sequences=True),\n",
    "        layer.Dropout(0.20),\n",
    "        layer.LSTM(units=10, return_sequences=False),\n",
    "        layer.Dense(units=1, activation='linear'),\n",
    "    ])\n",
    "    model.compile(loss='mae', optimizer='adam')\n",
    "    model.fit(train_x_val, train_y_val, epochs=30, batch_size=8, verbose=0, shuffle=False)\n",
    "\n",
    "    y_predicted_test = model.predict(test_x_val)\n",
    "\n",
    "    utils.eval_results(actual=test_y, predicted=y_predicted_test.flatten(), show=True)\n",
    "\n",
    "print('--- Alcohol Data ---')\n",
    "lstm_rnn(train_global_x, test_global_x, train_global_y, test_global_y)\n",
    "print('--- Covid Data ---')\n",
    "lstm_rnn(covid_train_x, covid_test_x, covid_train_y, covid_test_y)"
   ],
   "metadata": {
    "collapsed": false,
    "pycharm": {
     "name": "#%%\n"
    }
   }
  },
  {
   "cell_type": "code",
   "execution_count": null,
   "outputs": [],
   "source": [],
   "metadata": {
    "collapsed": false,
    "pycharm": {
     "name": "#%%\n"
    }
   }
  }
 ],
 "metadata": {
  "kernelspec": {
   "display_name": "Python 3",
   "language": "python",
   "name": "python3"
  },
  "language_info": {
   "codemirror_mode": {
    "name": "ipython",
    "version": 2
   },
   "file_extension": ".py",
   "mimetype": "text/x-python",
   "name": "python",
   "nbconvert_exporter": "python",
   "pygments_lexer": "ipython2",
   "version": "2.7.6"
  }
 },
 "nbformat": 4,
 "nbformat_minor": 0
}